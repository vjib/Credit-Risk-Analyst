{
 "cells": [
  {
   "cell_type": "code",
   "execution_count": 1,
   "metadata": {},
   "outputs": [],
   "source": [
    "import pandas as pd\n",
    "import datetime\n",
    "import numpy as np\n",
    "import math\n",
    "\n",
    "import plotly.offline as py \n",
    "import plotly.graph_objs as go \n",
    "\n",
    "import matplotlib.pyplot as plt\n",
    "import matplotlib.ticker as mtick\n",
    "from numpy.polynomial.polynomial import polyfit\n",
    "\n",
    "import seaborn as sns\n",
    "\n",
    "from sklearn import preprocessing\n",
    "\n",
    "from sklearn.metrics import precision_score\n",
    "from sklearn.metrics import recall_score\n",
    "from sklearn.metrics import f1_score"
   ]
  },
  {
   "cell_type": "code",
   "execution_count": 2,
   "metadata": {},
   "outputs": [],
   "source": [
    "file_url=\"Telco.csv\"\n",
    "\n",
    "df=pd.read_csv(file_url)"
   ]
  },
  {
   "cell_type": "code",
   "execution_count": 3,
   "metadata": {},
   "outputs": [
    {
     "data": {
      "text/html": [
       "<div>\n",
       "<style scoped>\n",
       "    .dataframe tbody tr th:only-of-type {\n",
       "        vertical-align: middle;\n",
       "    }\n",
       "\n",
       "    .dataframe tbody tr th {\n",
       "        vertical-align: top;\n",
       "    }\n",
       "\n",
       "    .dataframe thead th {\n",
       "        text-align: right;\n",
       "    }\n",
       "</style>\n",
       "<table border=\"1\" class=\"dataframe\">\n",
       "  <thead>\n",
       "    <tr style=\"text-align: right;\">\n",
       "      <th></th>\n",
       "      <th>customerID</th>\n",
       "      <th>Region</th>\n",
       "      <th>gender</th>\n",
       "      <th>SeniorCitizen</th>\n",
       "      <th>Partner</th>\n",
       "      <th>Dependents</th>\n",
       "      <th>tenure</th>\n",
       "      <th>PhoneService</th>\n",
       "      <th>MultipleLines</th>\n",
       "      <th>InternetService</th>\n",
       "      <th>...</th>\n",
       "      <th>DeviceProtection</th>\n",
       "      <th>TechSupport</th>\n",
       "      <th>StreamingTV</th>\n",
       "      <th>StreamingMovies</th>\n",
       "      <th>Contract</th>\n",
       "      <th>PaperlessBilling</th>\n",
       "      <th>PaymentMethod</th>\n",
       "      <th>MonthlyCharges</th>\n",
       "      <th>TotalCharges</th>\n",
       "      <th>Churn</th>\n",
       "    </tr>\n",
       "  </thead>\n",
       "  <tbody>\n",
       "    <tr>\n",
       "      <th>5942</th>\n",
       "      <td>7240-ETPTR</td>\n",
       "      <td>Germany</td>\n",
       "      <td>Female</td>\n",
       "      <td>0</td>\n",
       "      <td>Yes</td>\n",
       "      <td>No</td>\n",
       "      <td>9</td>\n",
       "      <td>No</td>\n",
       "      <td>No phone service</td>\n",
       "      <td>DSL</td>\n",
       "      <td>...</td>\n",
       "      <td>Yes</td>\n",
       "      <td>No</td>\n",
       "      <td>Yes</td>\n",
       "      <td>Yes</td>\n",
       "      <td>Month-to-month</td>\n",
       "      <td>Yes</td>\n",
       "      <td>Electronic check</td>\n",
       "      <td>48.75</td>\n",
       "      <td>442.2</td>\n",
       "      <td>Yes</td>\n",
       "    </tr>\n",
       "    <tr>\n",
       "      <th>2172</th>\n",
       "      <td>1895-QTKDO</td>\n",
       "      <td>Germany</td>\n",
       "      <td>Female</td>\n",
       "      <td>0</td>\n",
       "      <td>No</td>\n",
       "      <td>No</td>\n",
       "      <td>1</td>\n",
       "      <td>Yes</td>\n",
       "      <td>No</td>\n",
       "      <td>DSL</td>\n",
       "      <td>...</td>\n",
       "      <td>No</td>\n",
       "      <td>No</td>\n",
       "      <td>No</td>\n",
       "      <td>No</td>\n",
       "      <td>Month-to-month</td>\n",
       "      <td>No</td>\n",
       "      <td>Credit card (automatic)</td>\n",
       "      <td>43.95</td>\n",
       "      <td>43.95</td>\n",
       "      <td>No</td>\n",
       "    </tr>\n",
       "    <tr>\n",
       "      <th>6894</th>\n",
       "      <td>1400-MMYXY</td>\n",
       "      <td>Germany</td>\n",
       "      <td>Male</td>\n",
       "      <td>1</td>\n",
       "      <td>Yes</td>\n",
       "      <td>No</td>\n",
       "      <td>3</td>\n",
       "      <td>Yes</td>\n",
       "      <td>Yes</td>\n",
       "      <td>Fiber optic</td>\n",
       "      <td>...</td>\n",
       "      <td>Yes</td>\n",
       "      <td>No</td>\n",
       "      <td>Yes</td>\n",
       "      <td>Yes</td>\n",
       "      <td>Month-to-month</td>\n",
       "      <td>Yes</td>\n",
       "      <td>Electronic check</td>\n",
       "      <td>105.90</td>\n",
       "      <td>334.65</td>\n",
       "      <td>Yes</td>\n",
       "    </tr>\n",
       "    <tr>\n",
       "      <th>3768</th>\n",
       "      <td>3537-HPKQT</td>\n",
       "      <td>Germany</td>\n",
       "      <td>Female</td>\n",
       "      <td>0</td>\n",
       "      <td>Yes</td>\n",
       "      <td>No</td>\n",
       "      <td>55</td>\n",
       "      <td>Yes</td>\n",
       "      <td>Yes</td>\n",
       "      <td>Fiber optic</td>\n",
       "      <td>...</td>\n",
       "      <td>No</td>\n",
       "      <td>No</td>\n",
       "      <td>No</td>\n",
       "      <td>No</td>\n",
       "      <td>Month-to-month</td>\n",
       "      <td>Yes</td>\n",
       "      <td>Credit card (automatic)</td>\n",
       "      <td>77.75</td>\n",
       "      <td>4266.4</td>\n",
       "      <td>No</td>\n",
       "    </tr>\n",
       "    <tr>\n",
       "      <th>585</th>\n",
       "      <td>5192-EBGOV</td>\n",
       "      <td>Germany</td>\n",
       "      <td>Female</td>\n",
       "      <td>1</td>\n",
       "      <td>No</td>\n",
       "      <td>No</td>\n",
       "      <td>1</td>\n",
       "      <td>Yes</td>\n",
       "      <td>Yes</td>\n",
       "      <td>Fiber optic</td>\n",
       "      <td>...</td>\n",
       "      <td>No</td>\n",
       "      <td>No</td>\n",
       "      <td>Yes</td>\n",
       "      <td>No</td>\n",
       "      <td>Month-to-month</td>\n",
       "      <td>Yes</td>\n",
       "      <td>Electronic check</td>\n",
       "      <td>85.70</td>\n",
       "      <td>85.7</td>\n",
       "      <td>Yes</td>\n",
       "    </tr>\n",
       "    <tr>\n",
       "      <th>1136</th>\n",
       "      <td>6621-NRZAK</td>\n",
       "      <td>Germany</td>\n",
       "      <td>Female</td>\n",
       "      <td>0</td>\n",
       "      <td>Yes</td>\n",
       "      <td>Yes</td>\n",
       "      <td>63</td>\n",
       "      <td>Yes</td>\n",
       "      <td>No</td>\n",
       "      <td>No</td>\n",
       "      <td>...</td>\n",
       "      <td>No internet service</td>\n",
       "      <td>No internet service</td>\n",
       "      <td>No internet service</td>\n",
       "      <td>No internet service</td>\n",
       "      <td>Two year</td>\n",
       "      <td>No</td>\n",
       "      <td>Credit card (automatic)</td>\n",
       "      <td>20.00</td>\n",
       "      <td>1209.25</td>\n",
       "      <td>No</td>\n",
       "    </tr>\n",
       "    <tr>\n",
       "      <th>532</th>\n",
       "      <td>4234-XTNEA</td>\n",
       "      <td>Germany</td>\n",
       "      <td>Male</td>\n",
       "      <td>0</td>\n",
       "      <td>No</td>\n",
       "      <td>No</td>\n",
       "      <td>2</td>\n",
       "      <td>Yes</td>\n",
       "      <td>No</td>\n",
       "      <td>Fiber optic</td>\n",
       "      <td>...</td>\n",
       "      <td>No</td>\n",
       "      <td>No</td>\n",
       "      <td>Yes</td>\n",
       "      <td>No</td>\n",
       "      <td>Month-to-month</td>\n",
       "      <td>Yes</td>\n",
       "      <td>Electronic check</td>\n",
       "      <td>79.95</td>\n",
       "      <td>174.45</td>\n",
       "      <td>No</td>\n",
       "    </tr>\n",
       "    <tr>\n",
       "      <th>1240</th>\n",
       "      <td>2120-SMPEX</td>\n",
       "      <td>Germany</td>\n",
       "      <td>Male</td>\n",
       "      <td>0</td>\n",
       "      <td>No</td>\n",
       "      <td>No</td>\n",
       "      <td>25</td>\n",
       "      <td>Yes</td>\n",
       "      <td>No</td>\n",
       "      <td>No</td>\n",
       "      <td>...</td>\n",
       "      <td>No internet service</td>\n",
       "      <td>No internet service</td>\n",
       "      <td>No internet service</td>\n",
       "      <td>No internet service</td>\n",
       "      <td>Month-to-month</td>\n",
       "      <td>Yes</td>\n",
       "      <td>Mailed check</td>\n",
       "      <td>20.15</td>\n",
       "      <td>536.35</td>\n",
       "      <td>No</td>\n",
       "    </tr>\n",
       "    <tr>\n",
       "      <th>2652</th>\n",
       "      <td>4727-MCYZG</td>\n",
       "      <td>Germany</td>\n",
       "      <td>Male</td>\n",
       "      <td>0</td>\n",
       "      <td>No</td>\n",
       "      <td>No</td>\n",
       "      <td>1</td>\n",
       "      <td>Yes</td>\n",
       "      <td>No</td>\n",
       "      <td>DSL</td>\n",
       "      <td>...</td>\n",
       "      <td>No</td>\n",
       "      <td>No</td>\n",
       "      <td>No</td>\n",
       "      <td>Yes</td>\n",
       "      <td>Month-to-month</td>\n",
       "      <td>No</td>\n",
       "      <td>Mailed check</td>\n",
       "      <td>55.55</td>\n",
       "      <td>55.55</td>\n",
       "      <td>No</td>\n",
       "    </tr>\n",
       "    <tr>\n",
       "      <th>2109</th>\n",
       "      <td>3521-HTQTV</td>\n",
       "      <td>Germany</td>\n",
       "      <td>Male</td>\n",
       "      <td>0</td>\n",
       "      <td>No</td>\n",
       "      <td>No</td>\n",
       "      <td>34</td>\n",
       "      <td>Yes</td>\n",
       "      <td>Yes</td>\n",
       "      <td>No</td>\n",
       "      <td>...</td>\n",
       "      <td>No internet service</td>\n",
       "      <td>No internet service</td>\n",
       "      <td>No internet service</td>\n",
       "      <td>No internet service</td>\n",
       "      <td>Two year</td>\n",
       "      <td>No</td>\n",
       "      <td>Bank transfer (automatic)</td>\n",
       "      <td>26.10</td>\n",
       "      <td>980.35</td>\n",
       "      <td>No</td>\n",
       "    </tr>\n",
       "  </tbody>\n",
       "</table>\n",
       "<p>10 rows × 22 columns</p>\n",
       "</div>"
      ],
      "text/plain": [
       "      customerID   Region  gender  SeniorCitizen Partner Dependents  tenure  \\\n",
       "5942  7240-ETPTR  Germany  Female              0     Yes         No       9   \n",
       "2172  1895-QTKDO  Germany  Female              0      No         No       1   \n",
       "6894  1400-MMYXY  Germany    Male              1     Yes         No       3   \n",
       "3768  3537-HPKQT  Germany  Female              0     Yes         No      55   \n",
       "585   5192-EBGOV  Germany  Female              1      No         No       1   \n",
       "1136  6621-NRZAK  Germany  Female              0     Yes        Yes      63   \n",
       "532   4234-XTNEA  Germany    Male              0      No         No       2   \n",
       "1240  2120-SMPEX  Germany    Male              0      No         No      25   \n",
       "2652  4727-MCYZG  Germany    Male              0      No         No       1   \n",
       "2109  3521-HTQTV  Germany    Male              0      No         No      34   \n",
       "\n",
       "     PhoneService     MultipleLines InternetService  ...    \\\n",
       "5942           No  No phone service             DSL  ...     \n",
       "2172          Yes                No             DSL  ...     \n",
       "6894          Yes               Yes     Fiber optic  ...     \n",
       "3768          Yes               Yes     Fiber optic  ...     \n",
       "585           Yes               Yes     Fiber optic  ...     \n",
       "1136          Yes                No              No  ...     \n",
       "532           Yes                No     Fiber optic  ...     \n",
       "1240          Yes                No              No  ...     \n",
       "2652          Yes                No             DSL  ...     \n",
       "2109          Yes               Yes              No  ...     \n",
       "\n",
       "         DeviceProtection          TechSupport          StreamingTV  \\\n",
       "5942                  Yes                   No                  Yes   \n",
       "2172                   No                   No                   No   \n",
       "6894                  Yes                   No                  Yes   \n",
       "3768                   No                   No                   No   \n",
       "585                    No                   No                  Yes   \n",
       "1136  No internet service  No internet service  No internet service   \n",
       "532                    No                   No                  Yes   \n",
       "1240  No internet service  No internet service  No internet service   \n",
       "2652                   No                   No                   No   \n",
       "2109  No internet service  No internet service  No internet service   \n",
       "\n",
       "          StreamingMovies        Contract PaperlessBilling  \\\n",
       "5942                  Yes  Month-to-month              Yes   \n",
       "2172                   No  Month-to-month               No   \n",
       "6894                  Yes  Month-to-month              Yes   \n",
       "3768                   No  Month-to-month              Yes   \n",
       "585                    No  Month-to-month              Yes   \n",
       "1136  No internet service        Two year               No   \n",
       "532                    No  Month-to-month              Yes   \n",
       "1240  No internet service  Month-to-month              Yes   \n",
       "2652                  Yes  Month-to-month               No   \n",
       "2109  No internet service        Two year               No   \n",
       "\n",
       "                  PaymentMethod MonthlyCharges TotalCharges  Churn  \n",
       "5942           Electronic check          48.75        442.2    Yes  \n",
       "2172    Credit card (automatic)          43.95        43.95     No  \n",
       "6894           Electronic check         105.90       334.65    Yes  \n",
       "3768    Credit card (automatic)          77.75       4266.4     No  \n",
       "585            Electronic check          85.70         85.7    Yes  \n",
       "1136    Credit card (automatic)          20.00      1209.25     No  \n",
       "532            Electronic check          79.95       174.45     No  \n",
       "1240               Mailed check          20.15       536.35     No  \n",
       "2652               Mailed check          55.55        55.55     No  \n",
       "2109  Bank transfer (automatic)          26.10       980.35     No  \n",
       "\n",
       "[10 rows x 22 columns]"
      ]
     },
     "execution_count": 3,
     "metadata": {},
     "output_type": "execute_result"
    }
   ],
   "source": [
    "df.sample(10)"
   ]
  },
  {
   "cell_type": "code",
   "execution_count": null,
   "metadata": {},
   "outputs": [],
   "source": [
    "#Problem 1"
   ]
  },
  {
   "cell_type": "code",
   "execution_count": 20,
   "metadata": {},
   "outputs": [
    {
     "data": {
      "text/plain": [
       "0.2653698707936959"
      ]
     },
     "execution_count": 20,
     "metadata": {},
     "output_type": "execute_result"
    }
   ],
   "source": [
    "df_churn=df[df[\"Churn\"]==\"Yes\"]\n",
    "\n",
    "len(df_churn)/len(df)"
   ]
  },
  {
   "cell_type": "code",
   "execution_count": null,
   "metadata": {},
   "outputs": [],
   "source": [
    "#Problem 2"
   ]
  },
  {
   "cell_type": "code",
   "execution_count": 8,
   "metadata": {},
   "outputs": [
    {
     "data": {
      "text/html": [
       "<div>\n",
       "<style scoped>\n",
       "    .dataframe tbody tr th:only-of-type {\n",
       "        vertical-align: middle;\n",
       "    }\n",
       "\n",
       "    .dataframe tbody tr th {\n",
       "        vertical-align: top;\n",
       "    }\n",
       "\n",
       "    .dataframe thead th {\n",
       "        text-align: right;\n",
       "    }\n",
       "</style>\n",
       "<table border=\"1\" class=\"dataframe\">\n",
       "  <thead>\n",
       "    <tr style=\"text-align: right;\">\n",
       "      <th></th>\n",
       "      <th>SeniorCitizen</th>\n",
       "      <th>tenure</th>\n",
       "      <th>MonthlyCharges</th>\n",
       "    </tr>\n",
       "  </thead>\n",
       "  <tbody>\n",
       "    <tr>\n",
       "      <th>count</th>\n",
       "      <td>7043.000000</td>\n",
       "      <td>7043.000000</td>\n",
       "      <td>7043.000000</td>\n",
       "    </tr>\n",
       "    <tr>\n",
       "      <th>mean</th>\n",
       "      <td>0.162147</td>\n",
       "      <td>32.371149</td>\n",
       "      <td>64.761692</td>\n",
       "    </tr>\n",
       "    <tr>\n",
       "      <th>std</th>\n",
       "      <td>0.368612</td>\n",
       "      <td>24.559481</td>\n",
       "      <td>30.090047</td>\n",
       "    </tr>\n",
       "    <tr>\n",
       "      <th>min</th>\n",
       "      <td>0.000000</td>\n",
       "      <td>0.000000</td>\n",
       "      <td>18.250000</td>\n",
       "    </tr>\n",
       "    <tr>\n",
       "      <th>25%</th>\n",
       "      <td>0.000000</td>\n",
       "      <td>9.000000</td>\n",
       "      <td>35.500000</td>\n",
       "    </tr>\n",
       "    <tr>\n",
       "      <th>50%</th>\n",
       "      <td>0.000000</td>\n",
       "      <td>29.000000</td>\n",
       "      <td>70.350000</td>\n",
       "    </tr>\n",
       "    <tr>\n",
       "      <th>75%</th>\n",
       "      <td>0.000000</td>\n",
       "      <td>55.000000</td>\n",
       "      <td>89.850000</td>\n",
       "    </tr>\n",
       "    <tr>\n",
       "      <th>max</th>\n",
       "      <td>1.000000</td>\n",
       "      <td>72.000000</td>\n",
       "      <td>118.750000</td>\n",
       "    </tr>\n",
       "  </tbody>\n",
       "</table>\n",
       "</div>"
      ],
      "text/plain": [
       "       SeniorCitizen       tenure  MonthlyCharges\n",
       "count    7043.000000  7043.000000     7043.000000\n",
       "mean        0.162147    32.371149       64.761692\n",
       "std         0.368612    24.559481       30.090047\n",
       "min         0.000000     0.000000       18.250000\n",
       "25%         0.000000     9.000000       35.500000\n",
       "50%         0.000000    29.000000       70.350000\n",
       "75%         0.000000    55.000000       89.850000\n",
       "max         1.000000    72.000000      118.750000"
      ]
     },
     "execution_count": 8,
     "metadata": {},
     "output_type": "execute_result"
    }
   ],
   "source": [
    "df.describe()"
   ]
  },
  {
   "cell_type": "code",
   "execution_count": null,
   "metadata": {},
   "outputs": [],
   "source": [
    "#Problem3"
   ]
  },
  {
   "cell_type": "code",
   "execution_count": 204,
   "metadata": {},
   "outputs": [
    {
     "data": {
      "text/plain": [
       "568"
      ]
     },
     "execution_count": 204,
     "metadata": {},
     "output_type": "execute_result"
    }
   ],
   "source": [
    "df_female_senior=df[(df[\"gender\"]=='Female') & (df[\"SeniorCitizen\"]==True)]\n",
    "len(df_female_senior)"
   ]
  },
  {
   "cell_type": "code",
   "execution_count": 206,
   "metadata": {},
   "outputs": [
    {
     "data": {
      "text/plain": [
       "424"
      ]
     },
     "execution_count": 206,
     "metadata": {},
     "output_type": "execute_result"
    }
   ],
   "source": [
    "df_female_senior_fiber=df_female_senior[df_female_senior[\"InternetService\"]==\"Fiber optic\"]\n",
    "len(df_female_senior_fiber)"
   ]
  },
  {
   "cell_type": "code",
   "execution_count": 207,
   "metadata": {},
   "outputs": [
    {
     "data": {
      "text/plain": [
       "123"
      ]
     },
     "execution_count": 207,
     "metadata": {},
     "output_type": "execute_result"
    }
   ],
   "source": [
    "df_female_senior_dsl=df_female_senior[df_female_senior[\"InternetService\"]==\"DSL\"]\n",
    "len(df_female_senior_dsl)"
   ]
  },
  {
   "cell_type": "code",
   "execution_count": 209,
   "metadata": {},
   "outputs": [
    {
     "name": "stderr",
     "output_type": "stream",
     "text": [
      "C:\\Users\\vjib\\Anaconda3\\lib\\site-packages\\ipykernel_launcher.py:1: UserWarning:\n",
      "\n",
      "Boolean Series key will be reindexed to match DataFrame index.\n",
      "\n"
     ]
    },
    {
     "data": {
      "text/plain": [
       "199"
      ]
     },
     "execution_count": 209,
     "metadata": {},
     "output_type": "execute_result"
    }
   ],
   "source": [
    "df_female_senior_fiber_churn=df_female_senior_fiber[df[\"Churn\"]=='Yes']\n",
    "len(df_female_senior_fiber_churn)"
   ]
  },
  {
   "cell_type": "code",
   "execution_count": 210,
   "metadata": {},
   "outputs": [
    {
     "name": "stderr",
     "output_type": "stream",
     "text": [
      "C:\\Users\\vjib\\Anaconda3\\lib\\site-packages\\ipykernel_launcher.py:1: UserWarning:\n",
      "\n",
      "Boolean Series key will be reindexed to match DataFrame index.\n",
      "\n"
     ]
    },
    {
     "data": {
      "text/plain": [
       "38"
      ]
     },
     "execution_count": 210,
     "metadata": {},
     "output_type": "execute_result"
    }
   ],
   "source": [
    "df_female_senior_dsl_churn=df_female_senior_dsl[df[\"Churn\"]=='Yes']\n",
    "len(df_female_senior_dsl_churn)"
   ]
  },
  {
   "cell_type": "code",
   "execution_count": 220,
   "metadata": {},
   "outputs": [
    {
     "data": {
      "text/plain": [
       "(0.4693396226415094, 0.3089430894308943, 0.1603965332106151)"
      ]
     },
     "execution_count": 220,
     "metadata": {},
     "output_type": "execute_result"
    }
   ],
   "source": [
    "churn_rate_female_senior_fiber=len(df_female_senior_fiber_churn)/len(df_female_senior_fiber)\n",
    "churn_rate_female_dsl_fiber=len(df_female_senior_dsl_churn)/len(df_female_senior_dsl)\n",
    "\n",
    "churn_rate_female_senior_fiber,churn_rate_female_dsl_fiber,(churn_rate_female_senior_fiber-churn_rate_female_dsl_fiber)"
   ]
  },
  {
   "cell_type": "code",
   "execution_count": 287,
   "metadata": {},
   "outputs": [
    {
     "name": "stderr",
     "output_type": "stream",
     "text": [
      "C:\\Users\\vjib\\Anaconda3\\lib\\site-packages\\matplotlib\\figure.py:98: MatplotlibDeprecationWarning:\n",
      "\n",
      "\n",
      "Adding an axes using the same arguments as a previous axes currently reuses the earlier instance.  In a future version, a new instance will always be created and returned.  Meanwhile, this warning can be suppressed, and the future behavior ensured, by passing a unique label to each axes instance.\n",
      "\n"
     ]
    },
    {
     "data": {
      "text/plain": [
       "Text(0.5, 1.0, 'Churn rate of Female Senior citizen by internet service types')"
      ]
     },
     "execution_count": 287,
     "metadata": {},
     "output_type": "execute_result"
    },
    {
     "data": {
      "image/png": "[encoded data removed]",
      "text/plain": [
       "<Figure size 432x288 with 1 Axes>"
      ]
     },
     "metadata": {
      "needs_background": "light"
     },
     "output_type": "display_data"
    }
   ],
   "source": [
    "plt.bar([\"Fiber\",\"DSL\"],[churn_rate_female_senior_fiber,churn_rate_female_dsl_fiber],color=['#1E8BC3','#d24d57'])\n",
    "ax = plt.subplot()\n",
    "ax.set_xlabel('Type')\n",
    "ax.set_ylabel('Churn rate')\n",
    "plt.title('Churn rate of Female Senior citizen by internet service types')"
   ]
  },
  {
   "cell_type": "code",
   "execution_count": null,
   "metadata": {},
   "outputs": [],
   "source": [
    "#Problem4"
   ]
  },
  {
   "cell_type": "code",
   "execution_count": 30,
   "metadata": {},
   "outputs": [
    {
     "data": {
      "text/plain": [
       "0"
      ]
     },
     "execution_count": 30,
     "metadata": {},
     "output_type": "execute_result"
    }
   ],
   "source": [
    "df_fiber_phone=df[(df[\"PhoneService\"]==\"No\") & (df[\"InternetService\"]==\"Fiber optic\")]\n",
    "\n",
    "len(df_fiber_phone)"
   ]
  },
  {
   "cell_type": "code",
   "execution_count": null,
   "metadata": {},
   "outputs": [],
   "source": [
    "#Problem5"
   ]
  },
  {
   "cell_type": "code",
   "execution_count": 11,
   "metadata": {},
   "outputs": [
    {
     "data": {
      "text/plain": [
       "1755"
      ]
     },
     "execution_count": 11,
     "metadata": {},
     "output_type": "execute_result"
    }
   ],
   "source": [
    "df_count=df[(df[\"PhoneService\"]==\"Yes\") & (df[\"TechSupport\"]==\"Yes\")]\n",
    "len(df_count)"
   ]
  },
  {
   "cell_type": "code",
   "execution_count": 12,
   "metadata": {},
   "outputs": [
    {
     "data": {
      "text/plain": [
       "1021"
      ]
     },
     "execution_count": 12,
     "metadata": {},
     "output_type": "execute_result"
    }
   ],
   "source": [
    "df_count=df[(df[\"MultipleLines\"]==\"Yes\") & (df[\"TechSupport\"]==\"Yes\")]\n",
    "len(df_count)"
   ]
  },
  {
   "cell_type": "code",
   "execution_count": 13,
   "metadata": {},
   "outputs": [
    {
     "data": {
      "text/plain": [
       "2044"
      ]
     },
     "execution_count": 13,
     "metadata": {},
     "output_type": "execute_result"
    }
   ],
   "source": [
    "df_count=df[(df[\"InternetService\"]!=\"No\") & (df[\"TechSupport\"]==\"Yes\")]\n",
    "len(df_count)"
   ]
  },
  {
   "cell_type": "code",
   "execution_count": 14,
   "metadata": {},
   "outputs": [
    {
     "data": {
      "text/plain": [
       "1099"
      ]
     },
     "execution_count": 14,
     "metadata": {},
     "output_type": "execute_result"
    }
   ],
   "source": [
    "df_count=df[(df[\"OnlineSecurity\"]==\"Yes\") & (df[\"TechSupport\"]==\"Yes\")]\n",
    "len(df_count)"
   ]
  },
  {
   "cell_type": "code",
   "execution_count": 15,
   "metadata": {},
   "outputs": [
    {
     "data": {
      "text/plain": [
       "1152"
      ]
     },
     "execution_count": 15,
     "metadata": {},
     "output_type": "execute_result"
    }
   ],
   "source": [
    "df_count=df[(df[\"OnlineBackup\"]==\"Yes\") & (df[\"TechSupport\"]==\"Yes\")]\n",
    "len(df_count)"
   ]
  },
  {
   "cell_type": "code",
   "execution_count": 16,
   "metadata": {},
   "outputs": [
    {
     "data": {
      "text/plain": [
       "1209"
      ]
     },
     "execution_count": 16,
     "metadata": {},
     "output_type": "execute_result"
    }
   ],
   "source": [
    "df_count=df[(df[\"DeviceProtection\"]==\"Yes\") & (df[\"TechSupport\"]==\"Yes\")]\n",
    "len(df_count)"
   ]
  },
  {
   "cell_type": "code",
   "execution_count": 17,
   "metadata": {},
   "outputs": [
    {
     "data": {
      "text/plain": [
       "1218"
      ]
     },
     "execution_count": 17,
     "metadata": {},
     "output_type": "execute_result"
    }
   ],
   "source": [
    "df_count=df[(df[\"StreamingTV\"]==\"Yes\") & (df[\"TechSupport\"]==\"Yes\")]\n",
    "len(df_count)"
   ]
  },
  {
   "cell_type": "code",
   "execution_count": 18,
   "metadata": {},
   "outputs": [
    {
     "data": {
      "text/plain": [
       "1228"
      ]
     },
     "execution_count": 18,
     "metadata": {},
     "output_type": "execute_result"
    }
   ],
   "source": [
    "df_count=df[(df[\"StreamingMovies\"]==\"Yes\") & (df[\"TechSupport\"]==\"Yes\")]\n",
    "len(df_count)"
   ]
  },
  {
   "cell_type": "code",
   "execution_count": 19,
   "metadata": {},
   "outputs": [],
   "source": [
    "#Problem6"
   ]
  },
  {
   "cell_type": "code",
   "execution_count": 19,
   "metadata": {},
   "outputs": [],
   "source": [
    "churn_rate={}\n",
    "churn_yes={}\n",
    "churn_no={}\n",
    "\n",
    "x_charge=[]\n",
    "y_rate=[]\n",
    "\n",
    "for index,row in df.iterrows():\n",
    "    monthly_charge=row['MonthlyCharges']\n",
    "    churn=row['Churn']\n",
    "    \n",
    "    charge=int(monthly_charge/1)*1\n",
    "        \n",
    "    if not charge in churn_yes:\n",
    "        churn_yes[charge]=0\n",
    "        \n",
    "    if not charge in churn_no:\n",
    "        churn_no[charge]=0\n",
    "        \n",
    "    if churn==\"Yes\":\n",
    "        churn_yes[charge]+=1\n",
    "    else:\n",
    "        churn_no[charge]+=1\n",
    "        \n",
    "for charge,total in churn_yes.items():\n",
    "    rate=churn_yes[charge]/(churn_yes[charge]+churn_no[charge])\n",
    "    churn_rate[charge]=rate\n",
    "    x_charge.append([1,charge])\n",
    "    y_rate.append(rate)"
   ]
  },
  {
   "cell_type": "code",
   "execution_count": 20,
   "metadata": {},
   "outputs": [
    {
     "data": {
      "text/plain": [
       "(0.0009118276153516028, 0.19967003593617524)"
      ]
     },
     "execution_count": 20,
     "metadata": {},
     "output_type": "execute_result"
    }
   ],
   "source": [
    "m,b = np.polyfit(list(churn_rate.keys()),list(churn_rate.values()), 1)\n",
    "m,b"
   ]
  },
  {
   "cell_type": "code",
   "execution_count": 23,
   "metadata": {},
   "outputs": [
    {
     "name": "stderr",
     "output_type": "stream",
     "text": [
      "C:\\Users\\vjib\\Anaconda3\\lib\\site-packages\\matplotlib\\figure.py:98: MatplotlibDeprecationWarning:\n",
      "\n",
      "\n",
      "Adding an axes using the same arguments as a previous axes currently reuses the earlier instance.  In a future version, a new instance will always be created and returned.  Meanwhile, this warning can be suppressed, and the future behavior ensured, by passing a unique label to each axes instance.\n",
      "\n"
     ]
    },
    {
     "data": {
      "text/plain": [
       "[<matplotlib.lines.Line2D at 0x29bf9ded588>]"
      ]
     },
     "execution_count": 23,
     "metadata": {},
     "output_type": "execute_result"
    },
    {
     "data": {
      "image/png": "[encoded data removed]",
      "text/plain": [
       "<Figure size 432x288 with 1 Axes>"
      ]
     },
     "metadata": {
      "needs_background": "light"
     },
     "output_type": "display_data"
    }
   ],
   "source": [
    "plt.scatter(churn_rate.keys(),churn_rate.values(),color='#d24d57',s=50)\n",
    "ax = plt.subplot()\n",
    "ax.set_xlabel('Monthly charge')\n",
    "ax.set_ylabel('Churn rate')\n",
    "plt.title('Relationship between churn rate and monthly charge')\n",
    "\n",
    "x = np.linspace(0, 120, 10)\n",
    "plt.plot(x,  m*x+b, linestyle='dashed',color=\"blue\")"
   ]
  },
  {
   "cell_type": "code",
   "execution_count": 24,
   "metadata": {},
   "outputs": [
    {
     "data": {
      "text/html": [
       "<table class=\"simpletable\">\n",
       "<caption>OLS Regression Results</caption>\n",
       "<tr>\n",
       "  <th>Dep. Variable:</th>            <td>y</td>        <th>  R-squared:         </th> <td>   0.036</td>\n",
       "</tr>\n",
       "<tr>\n",
       "  <th>Model:</th>                   <td>OLS</td>       <th>  Adj. R-squared:    </th> <td>   0.026</td>\n",
       "</tr>\n",
       "<tr>\n",
       "  <th>Method:</th>             <td>Least Squares</td>  <th>  F-statistic:       </th> <td>   3.645</td>\n",
       "</tr>\n",
       "<tr>\n",
       "  <th>Date:</th>             <td>Thu, 23 Jan 2020</td> <th>  Prob (F-statistic):</th>  <td>0.0592</td> \n",
       "</tr>\n",
       "<tr>\n",
       "  <th>Time:</th>                 <td>19:38:00</td>     <th>  Log-Likelihood:    </th> <td>  57.002</td>\n",
       "</tr>\n",
       "<tr>\n",
       "  <th>No. Observations:</th>      <td>    99</td>      <th>  AIC:               </th> <td>  -110.0</td>\n",
       "</tr>\n",
       "<tr>\n",
       "  <th>Df Residuals:</th>          <td>    97</td>      <th>  BIC:               </th> <td>  -104.8</td>\n",
       "</tr>\n",
       "<tr>\n",
       "  <th>Df Model:</th>              <td>     1</td>      <th>                     </th>     <td> </td>   \n",
       "</tr>\n",
       "<tr>\n",
       "  <th>Covariance Type:</th>      <td>nonrobust</td>    <th>                     </th>     <td> </td>   \n",
       "</tr>\n",
       "</table>\n",
       "<table class=\"simpletable\">\n",
       "<tr>\n",
       "    <td></td>       <th>coef</th>     <th>std err</th>      <th>t</th>      <th>P>|t|</th>  <th>[0.025</th>    <th>0.975]</th>  \n",
       "</tr>\n",
       "<tr>\n",
       "  <th>const</th> <td>    0.1997</td> <td>    0.036</td> <td>    5.603</td> <td> 0.000</td> <td>    0.129</td> <td>    0.270</td>\n",
       "</tr>\n",
       "<tr>\n",
       "  <th>x1</th>    <td>    0.0009</td> <td>    0.000</td> <td>    1.909</td> <td> 0.059</td> <td>-3.61e-05</td> <td>    0.002</td>\n",
       "</tr>\n",
       "</table>\n",
       "<table class=\"simpletable\">\n",
       "<tr>\n",
       "  <th>Omnibus:</th>       <td> 0.525</td> <th>  Durbin-Watson:     </th> <td>   1.839</td>\n",
       "</tr>\n",
       "<tr>\n",
       "  <th>Prob(Omnibus):</th> <td> 0.769</td> <th>  Jarque-Bera (JB):  </th> <td>   0.672</td>\n",
       "</tr>\n",
       "<tr>\n",
       "  <th>Skew:</th>          <td> 0.133</td> <th>  Prob(JB):          </th> <td>   0.715</td>\n",
       "</tr>\n",
       "<tr>\n",
       "  <th>Kurtosis:</th>      <td> 2.697</td> <th>  Cond. No.          </th> <td>    193.</td>\n",
       "</tr>\n",
       "</table><br/><br/>Warnings:<br/>[1] Standard Errors assume that the covariance matrix of the errors is correctly specified."
      ],
      "text/plain": [
       "<class 'statsmodels.iolib.summary.Summary'>\n",
       "\"\"\"\n",
       "                            OLS Regression Results                            \n",
       "==============================================================================\n",
       "Dep. Variable:                      y   R-squared:                       0.036\n",
       "Model:                            OLS   Adj. R-squared:                  0.026\n",
       "Method:                 Least Squares   F-statistic:                     3.645\n",
       "Date:                Thu, 23 Jan 2020   Prob (F-statistic):             0.0592\n",
       "Time:                        19:38:00   Log-Likelihood:                 57.002\n",
       "No. Observations:                  99   AIC:                            -110.0\n",
       "Df Residuals:                      97   BIC:                            -104.8\n",
       "Df Model:                           1                                         \n",
       "Covariance Type:            nonrobust                                         \n",
       "==============================================================================\n",
       "                 coef    std err          t      P>|t|      [0.025      0.975]\n",
       "------------------------------------------------------------------------------\n",
       "const          0.1997      0.036      5.603      0.000       0.129       0.270\n",
       "x1             0.0009      0.000      1.909      0.059   -3.61e-05       0.002\n",
       "==============================================================================\n",
       "Omnibus:                        0.525   Durbin-Watson:                   1.839\n",
       "Prob(Omnibus):                  0.769   Jarque-Bera (JB):                0.672\n",
       "Skew:                           0.133   Prob(JB):                        0.715\n",
       "Kurtosis:                       2.697   Cond. No.                         193.\n",
       "==============================================================================\n",
       "\n",
       "Warnings:\n",
       "[1] Standard Errors assume that the covariance matrix of the errors is correctly specified.\n",
       "\"\"\""
      ]
     },
     "execution_count": 24,
     "metadata": {},
     "output_type": "execute_result"
    }
   ],
   "source": [
    "import statsmodels.api as sm\n",
    "ols = sm.OLS(y_rate, x_charge)\n",
    "ols_result = ols.fit()\n",
    "ols_result.summary()"
   ]
  },
  {
   "cell_type": "code",
   "execution_count": null,
   "metadata": {},
   "outputs": [],
   "source": [
    "#Problem7"
   ]
  },
  {
   "cell_type": "code",
   "execution_count": 25,
   "metadata": {},
   "outputs": [
    {
     "name": "stdout",
     "output_type": "stream",
     "text": [
      "0.21531494442157267 0.39928756476683935\n"
     ]
    }
   ],
   "source": [
    "df_online_yes=df[df[\"OnlineBackup\"]==\"Yes\"]\n",
    "df_online_no=df[df[\"OnlineBackup\"]==\"No\"]\n",
    "df_online_yes_churn=df_online_yes[df_online_yes[\"Churn\"]==\"Yes\"]\n",
    "df_online_no_churn=df_online_no[df_online_no[\"Churn\"]==\"Yes\"]\n",
    "\n",
    "online_yes_churn_rate=len(df_online_yes_churn)/len(df_online_yes)\n",
    "online_no_churn_rate=len(df_online_no_churn)/len(df_online_no)\n",
    "\n",
    "print(online_yes_churn_rate,online_no_churn_rate)"
   ]
  },
  {
   "cell_type": "code",
   "execution_count": 26,
   "metadata": {},
   "outputs": [
    {
     "name": "stdout",
     "output_type": "stream",
     "text": [
      "0.14611193660227836 0.4176672384219554\n"
     ]
    }
   ],
   "source": [
    "df_security_yes=df[df[\"OnlineSecurity\"]==\"Yes\"]\n",
    "df_security_no=df[df[\"OnlineSecurity\"]==\"No\"]\n",
    "df_security_yes_churn=df_security_yes[df_security_yes[\"Churn\"]==\"Yes\"]\n",
    "df_security_no_churn=df_security_no[df_security_no[\"Churn\"]==\"Yes\"]\n",
    "\n",
    "security_yes_churn_rate=len(df_security_yes_churn)/len(df_security_yes)\n",
    "security_no_churn_rate=len(df_security_no_churn)/len(df_security_no)\n",
    "\n",
    "print(security_yes_churn_rate,security_no_churn_rate)"
   ]
  },
  {
   "cell_type": "code",
   "execution_count": 27,
   "metadata": {},
   "outputs": [
    {
     "name": "stdout",
     "output_type": "stream",
     "text": [
      "0.15166340508806261 0.4163547365390153\n"
     ]
    }
   ],
   "source": [
    "df_tech_yes=df[df[\"TechSupport\"]==\"Yes\"]\n",
    "df_tech_no=df[df[\"TechSupport\"]==\"No\"]\n",
    "df_tech_yes_churn=df_tech_yes[df_tech_yes[\"Churn\"]==\"Yes\"]\n",
    "df_tech_no_churn=df_tech_no[df_tech_no[\"Churn\"]==\"Yes\"]\n",
    "\n",
    "tech_yes_churn_rate=len(df_tech_yes_churn)/len(df_tech_yes)\n",
    "tech_no_churn_rate=len(df_tech_no_churn)/len(df_tech_no)\n",
    "\n",
    "print(tech_yes_churn_rate,tech_no_churn_rate)"
   ]
  },
  {
   "cell_type": "code",
   "execution_count": 30,
   "metadata": {},
   "outputs": [
    {
     "data": {
      "image/png": "[encoded data removed]",
      "text/plain": [
       "<Figure size 432x288 with 1 Axes>"
      ]
     },
     "metadata": {
      "needs_background": "light"
     },
     "output_type": "display_data"
    }
   ],
   "source": [
    "x_axis=[\"Online Backup\",\"Online Security\",\"Tech Support\"]\n",
    "yes_service_rates = [online_yes_churn_rate,security_yes_churn_rate,tech_yes_churn_rate]\n",
    "no_service_rates = [online_no_churn_rate,security_no_churn_rate,tech_no_churn_rate]\n",
    "\n",
    "barWidth = 0.25\n",
    "\n",
    "r1 = np.arange(3)\n",
    "r2 = [x + barWidth for x in r1]\n",
    "\n",
    "plt.bar(r1, yes_service_rates, width=barWidth, color='#2abb9b', align='center',label='Customer with service')\n",
    "plt.bar(r2, no_service_rates, width=barWidth, color='#d24d57', align='center',label='Customer without service')\n",
    "\n",
    "axes = plt.gca()\n",
    "axes.set_ylim([0,0.6])\n",
    "\n",
    "plt.xlabel('Type of services')\n",
    "plt.ylabel('Churn rate')\n",
    "plt.xticks([r + barWidth for r in range(3)],x_axis)\n",
    "\n",
    "plt.legend()\n",
    "plt.show()"
   ]
  },
  {
   "cell_type": "code",
   "execution_count": null,
   "metadata": {},
   "outputs": [],
   "source": [
    "#Problem8"
   ]
  },
  {
   "cell_type": "code",
   "execution_count": 32,
   "metadata": {},
   "outputs": [
    {
     "data": {
      "text/plain": [
       "(0.5493827160493827, 0.5133205163416644)"
      ]
     },
     "execution_count": 32,
     "metadata": {},
     "output_type": "execute_result"
    }
   ],
   "source": [
    "df_with_partner=df[df[\"Partner\"]==\"Yes\"]\n",
    "df_without_partner=df[df[\"Partner\"]==\"No\"]\n",
    "\n",
    "df_churn_with_partner=df[df[\"Churn\"]==\"Yes\"]\n",
    "df_churn_without_partner=df[df[\"Churn\"]==\"Yes\"]\n",
    "\n",
    "churn_rate_with_partner=len(df_churn_with_partner)/len(df_with_partner)\n",
    "churn_rate_without_partner=len(df_churn_without_partner)/len(df_without_partner)\n",
    "\n",
    "churn_rate_with_partner,churn_rate_without_partner"
   ]
  },
  {
   "cell_type": "code",
   "execution_count": 33,
   "metadata": {},
   "outputs": [
    {
     "name": "stderr",
     "output_type": "stream",
     "text": [
      "C:\\Users\\vjib\\Anaconda3\\lib\\site-packages\\matplotlib\\figure.py:98: MatplotlibDeprecationWarning:\n",
      "\n",
      "\n",
      "Adding an axes using the same arguments as a previous axes currently reuses the earlier instance.  In a future version, a new instance will always be created and returned.  Meanwhile, this warning can be suppressed, and the future behavior ensured, by passing a unique label to each axes instance.\n",
      "\n"
     ]
    },
    {
     "data": {
      "text/plain": [
       "Text(0.5, 1.0, 'Churn rate by status')"
      ]
     },
     "execution_count": 33,
     "metadata": {},
     "output_type": "execute_result"
    },
    {
     "data": {
      "image/png": "[encoded data removed]",
      "text/plain": [
       "<Figure size 432x288 with 1 Axes>"
      ]
     },
     "metadata": {
      "needs_background": "light"
     },
     "output_type": "display_data"
    }
   ],
   "source": [
    "plt.bar([\"Partner\",\"No partner\"],[churn_rate_with_partner,churn_rate_without_partner],color=['#1E8BC3','#d24d57'])\n",
    "ax = plt.subplot()\n",
    "ax.set_xlabel('Status')\n",
    "ax.set_ylabel('Churn rate')\n",
    "plt.title('Churn rate by status')"
   ]
  },
  {
   "cell_type": "code",
   "execution_count": null,
   "metadata": {},
   "outputs": [],
   "source": [
    "#Problem9"
   ]
  },
  {
   "cell_type": "code",
   "execution_count": 301,
   "metadata": {},
   "outputs": [],
   "source": [
    "serviceDict={}\n",
    "serviceDict['PhoneService']=[]\n",
    "serviceDict['MultipleLines']=[]\n",
    "serviceDict['InternetService']=[]\n",
    "serviceDict['OnlineSecurity']=[]\n",
    "serviceDict['OnlineBackup']=[]\n",
    "serviceDict['DeviceProtection']=[]\n",
    "serviceDict['TechSupport']=[]\n",
    "serviceDict['StreamingTV']=[]\n",
    "serviceDict['StreamingMovies']=[]\n",
    "serviceDict['Churn']=[]\n",
    "\n",
    "for index,row in df.iterrows():\n",
    "        \n",
    "    phone_service=row['PhoneService']\n",
    "    multiple_line=row['MultipleLines']\n",
    "    internet_service=row['InternetService']\n",
    "    online_security=row['OnlineSecurity']\n",
    "    online_backup=row['OnlineBackup']\n",
    "    device_protection=row['DeviceProtection']\n",
    "    tech_support=row['TechSupport']\n",
    "    streamingTV=row['StreamingTV']\n",
    "    streamingMovies=row['StreamingMovies']\n",
    "    churn=row[\"Churn\"]\n",
    "    \n",
    "    if phone_service==\"Yes\":\n",
    "        serviceDict['PhoneService'].append(1)\n",
    "    else:\n",
    "        serviceDict['PhoneService'].append(0)\n",
    "        \n",
    "    if multiple_line==\"Yes\":\n",
    "        serviceDict['MultipleLines'].append(1)\n",
    "    else:\n",
    "        serviceDict['MultipleLines'].append(0)\n",
    "        \n",
    "    if internet_service!=\"No\":\n",
    "        serviceDict['InternetService'].append(1)\n",
    "    else:\n",
    "        serviceDict['InternetService'].append(0)\n",
    "        \n",
    "    if online_security==\"Yes\":\n",
    "        serviceDict['OnlineSecurity'].append(1)\n",
    "    else:\n",
    "        serviceDict['OnlineSecurity'].append(0)\n",
    "        \n",
    "    if online_backup==\"Yes\":\n",
    "        serviceDict['OnlineBackup'].append(1)\n",
    "    else:\n",
    "        serviceDict['OnlineBackup'].append(0)\n",
    "        \n",
    "    if device_protection==\"Yes\":\n",
    "        serviceDict['DeviceProtection'].append(1)\n",
    "    else:\n",
    "        serviceDict['DeviceProtection'].append(0)\n",
    "        \n",
    "    if tech_support==\"Yes\":\n",
    "        serviceDict['TechSupport'].append(1)\n",
    "    else:\n",
    "        serviceDict['TechSupport'].append(0)\n",
    "        \n",
    "    if streamingTV==\"Yes\":\n",
    "        serviceDict['StreamingTV'].append(1)\n",
    "    else:\n",
    "        serviceDict['StreamingTV'].append(0)\n",
    "        \n",
    "    if streamingMovies==\"Yes\":\n",
    "        serviceDict['StreamingMovies'].append(1)\n",
    "    else:\n",
    "        serviceDict['StreamingMovies'].append(0)\n",
    "        \n",
    "    if churn==\"Yes\":\n",
    "        serviceDict[\"Churn\"].append(1)\n",
    "    else:\n",
    "        serviceDict[\"Churn\"].append(0)"
   ]
  },
  {
   "cell_type": "code",
   "execution_count": 302,
   "metadata": {},
   "outputs": [
    {
     "data": {
      "text/html": [
       "<div>\n",
       "<style scoped>\n",
       "    .dataframe tbody tr th:only-of-type {\n",
       "        vertical-align: middle;\n",
       "    }\n",
       "\n",
       "    .dataframe tbody tr th {\n",
       "        vertical-align: top;\n",
       "    }\n",
       "\n",
       "    .dataframe thead th {\n",
       "        text-align: right;\n",
       "    }\n",
       "</style>\n",
       "<table border=\"1\" class=\"dataframe\">\n",
       "  <thead>\n",
       "    <tr style=\"text-align: right;\">\n",
       "      <th></th>\n",
       "      <th>PhoneService</th>\n",
       "      <th>MultipleLines</th>\n",
       "      <th>InternetService</th>\n",
       "      <th>OnlineSecurity</th>\n",
       "      <th>OnlineBackup</th>\n",
       "      <th>DeviceProtection</th>\n",
       "      <th>TechSupport</th>\n",
       "      <th>StreamingTV</th>\n",
       "      <th>StreamingMovies</th>\n",
       "      <th>Churn</th>\n",
       "    </tr>\n",
       "  </thead>\n",
       "  <tbody>\n",
       "    <tr>\n",
       "      <th>3110</th>\n",
       "      <td>1</td>\n",
       "      <td>0</td>\n",
       "      <td>0</td>\n",
       "      <td>0</td>\n",
       "      <td>0</td>\n",
       "      <td>0</td>\n",
       "      <td>0</td>\n",
       "      <td>0</td>\n",
       "      <td>0</td>\n",
       "      <td>0</td>\n",
       "    </tr>\n",
       "    <tr>\n",
       "      <th>4151</th>\n",
       "      <td>0</td>\n",
       "      <td>0</td>\n",
       "      <td>1</td>\n",
       "      <td>0</td>\n",
       "      <td>1</td>\n",
       "      <td>1</td>\n",
       "      <td>0</td>\n",
       "      <td>1</td>\n",
       "      <td>1</td>\n",
       "      <td>0</td>\n",
       "    </tr>\n",
       "    <tr>\n",
       "      <th>2907</th>\n",
       "      <td>1</td>\n",
       "      <td>0</td>\n",
       "      <td>1</td>\n",
       "      <td>0</td>\n",
       "      <td>0</td>\n",
       "      <td>0</td>\n",
       "      <td>0</td>\n",
       "      <td>1</td>\n",
       "      <td>1</td>\n",
       "      <td>1</td>\n",
       "    </tr>\n",
       "    <tr>\n",
       "      <th>1107</th>\n",
       "      <td>1</td>\n",
       "      <td>1</td>\n",
       "      <td>0</td>\n",
       "      <td>0</td>\n",
       "      <td>0</td>\n",
       "      <td>0</td>\n",
       "      <td>0</td>\n",
       "      <td>0</td>\n",
       "      <td>0</td>\n",
       "      <td>0</td>\n",
       "    </tr>\n",
       "    <tr>\n",
       "      <th>5957</th>\n",
       "      <td>1</td>\n",
       "      <td>0</td>\n",
       "      <td>1</td>\n",
       "      <td>0</td>\n",
       "      <td>0</td>\n",
       "      <td>0</td>\n",
       "      <td>0</td>\n",
       "      <td>0</td>\n",
       "      <td>1</td>\n",
       "      <td>1</td>\n",
       "    </tr>\n",
       "  </tbody>\n",
       "</table>\n",
       "</div>"
      ],
      "text/plain": [
       "      PhoneService  MultipleLines  InternetService  OnlineSecurity  \\\n",
       "3110             1              0                0               0   \n",
       "4151             0              0                1               0   \n",
       "2907             1              0                1               0   \n",
       "1107             1              1                0               0   \n",
       "5957             1              0                1               0   \n",
       "\n",
       "      OnlineBackup  DeviceProtection  TechSupport  StreamingTV  \\\n",
       "3110             0                 0            0            0   \n",
       "4151             1                 1            0            1   \n",
       "2907             0                 0            0            1   \n",
       "1107             0                 0            0            0   \n",
       "5957             0                 0            0            0   \n",
       "\n",
       "      StreamingMovies  Churn  \n",
       "3110                0      0  \n",
       "4151                1      0  \n",
       "2907                1      1  \n",
       "1107                0      0  \n",
       "5957                1      1  "
      ]
     },
     "execution_count": 302,
     "metadata": {},
     "output_type": "execute_result"
    }
   ],
   "source": [
    "df_service = pd.DataFrame(serviceDict) \n",
    "df_service.sample(5)"
   ]
  },
  {
   "cell_type": "code",
   "execution_count": 303,
   "metadata": {},
   "outputs": [
    {
     "data": {
      "image/png": "[encoded data removed]",
      "text/plain": [
       "<Figure size 432x432 with 2 Axes>"
      ]
     },
     "metadata": {
      "needs_background": "light"
     },
     "output_type": "display_data"
    }
   ],
   "source": [
    "plt.figure(figsize=(6,6))\n",
    "sns.heatmap(df_service.corr(),linewidths=0.1,vmax=1.0, \n",
    "            square=True,  linecolor='white', annot=True)\n",
    "plt.show()"
   ]
  },
  {
   "cell_type": "code",
   "execution_count": null,
   "metadata": {},
   "outputs": [],
   "source": [
    "#Problem 10"
   ]
  },
  {
   "cell_type": "code",
   "execution_count": 22,
   "metadata": {},
   "outputs": [],
   "source": [
    "inputs=[]\n",
    "outputs=[]\n",
    "\n",
    "for index,row in df.iterrows():\n",
    "    \n",
    "    temp_input=[0]*25\n",
    "    \n",
    "    region=row['Region']\n",
    "    gender=row['gender']\n",
    "    senior=row['SeniorCitizen']\n",
    "    partner=row['Partner']\n",
    "    dependent=row['Dependents']\n",
    "    tenure=row['tenure']\n",
    "    phone_service=row['PhoneService']\n",
    "    multiple_line=row['MultipleLines']\n",
    "    internet_service=row['InternetService']\n",
    "    online_security=row['OnlineSecurity']\n",
    "    online_backup=row['OnlineBackup']\n",
    "    device_protection=row['DeviceProtection']\n",
    "    tech_support=row['TechSupport']\n",
    "    streamingTV=row['StreamingTV']\n",
    "    streamingMovies=row['StreamingMovies']\n",
    "    contact=row['Contract']\n",
    "    paperless=row['PaperlessBilling']\n",
    "    paymentMethod=row['PaymentMethod']\n",
    "    charge=row[\"MonthlyCharges\"]\n",
    "    churn=row[\"Churn\"]\n",
    "    \n",
    "    if region=='England':\n",
    "        temp_input[0]=1\n",
    "    elif region=='France':\n",
    "        temp_input[1]=1\n",
    "    else:\n",
    "        temp_input[2]=1\n",
    "    \n",
    "    if gender=='Male':\n",
    "        temp_input[3]=1\n",
    "    \n",
    "    temp_input[4]=senior\n",
    "    \n",
    "    if partner=='Yes':\n",
    "        temp_input[5]=1\n",
    "    \n",
    "    if dependent=='Yes':\n",
    "        temp_input[6]=1\n",
    "        \n",
    "    temp_input[7]=tenure/72\n",
    "    \n",
    "    if phone_service==\"Yes\":\n",
    "        temp_input[8]=1\n",
    "        \n",
    "    if multiple_line==\"Yes\":\n",
    "        temp_input[9]\n",
    "        \n",
    "    if internet_service==\"DSL\":\n",
    "        temp_input[10]=1\n",
    "    elif internet_service==\"Fiber optic\":\n",
    "        temp_input[11]=1\n",
    "        \n",
    "    if online_security==\"Yes\":\n",
    "        temp_input[12]=1\n",
    "        \n",
    "    if online_backup==\"Yes\":\n",
    "        temp_input[13]=1\n",
    "        \n",
    "    if device_protection==\"Yes\":\n",
    "        temp_input[14]=1\n",
    "        \n",
    "    if tech_support==\"Yes\":\n",
    "        temp_input[15]=1\n",
    "        \n",
    "    if streamingTV==\"Yes\":\n",
    "        temp_input[16]=1\n",
    "        \n",
    "    if streamingMovies==\"Yes\":\n",
    "        temp_input[17]=1\n",
    "        \n",
    "    if contact=='One year':\n",
    "        temp_input[18]=1\n",
    "    elif contact=='Two year':\n",
    "        temp_input[18]=2\n",
    "    else:\n",
    "        temp_input[18]=1/12\n",
    "        \n",
    "    if paperless=='Yes':\n",
    "        temp_input[19]=1\n",
    "        \n",
    "    if paymentMethod==\"Bank transfer (automatic)\":\n",
    "        temp_input[20]=1\n",
    "    elif paymentMethod==\"Credit card (automatic)\":\n",
    "        temp_input[21]=1\n",
    "    elif paymentMethod==\"Electronic check\":\n",
    "        temp_input[22]=1\n",
    "    else:\n",
    "        temp_input[23]=1\n",
    "        \n",
    "    temp_input[24]=charge/118.75\n",
    "    \n",
    "    inputs.append(temp_input)\n",
    "    \n",
    "    if churn=='Yes':\n",
    "        outputs.append([1])\n",
    "    else:\n",
    "        outputs.append([0])"
   ]
  },
  {
   "cell_type": "code",
   "execution_count": 23,
   "metadata": {},
   "outputs": [
    {
     "name": "stderr",
     "output_type": "stream",
     "text": [
      "C:\\Users\\vjib\\Anaconda3\\lib\\site-packages\\sklearn\\linear_model\\logistic.py:433: FutureWarning:\n",
      "\n",
      "Default solver will be changed to 'lbfgs' in 0.22. Specify a solver to silence this warning.\n",
      "\n",
      "C:\\Users\\vjib\\Anaconda3\\lib\\site-packages\\sklearn\\utils\\validation.py:761: DataConversionWarning:\n",
      "\n",
      "A column-vector y was passed when a 1d array was expected. Please change the shape of y to (n_samples, ), for example using ravel().\n",
      "\n"
     ]
    },
    {
     "data": {
      "text/plain": [
       "0.8046287093568082"
      ]
     },
     "execution_count": 23,
     "metadata": {},
     "output_type": "execute_result"
    }
   ],
   "source": [
    "from sklearn.linear_model import LogisticRegression\n",
    "\n",
    "clf = LogisticRegression(random_state=0).fit(inputs, outputs)\n",
    "clf.score(inputs, outputs)"
   ]
  },
  {
   "cell_type": "code",
   "execution_count": 24,
   "metadata": {},
   "outputs": [
    {
     "data": {
      "text/plain": [
       "array([[-0.2989531 , -0.19974971, -0.13707681, -0.0239116 ,  0.22443007,\n",
       "        -0.00293611, -0.17187512, -2.28390509, -0.68000393,  0.        ,\n",
       "         0.4642555 ,  1.06972062, -0.42802417, -0.17650227, -0.06983401,\n",
       "        -0.40189543,  0.14098355,  0.15429337, -0.7382749 ,  0.34442834,\n",
       "        -0.21474113, -0.29986621,  0.10522562, -0.22639791,  1.57889572]])"
      ]
     },
     "execution_count": 24,
     "metadata": {},
     "output_type": "execute_result"
    }
   ],
   "source": [
    "clf.coef_\n",
    "\n",
    "#4-tenure\n",
    "#5-phone_service\n",
    "#15-Contact"
   ]
  },
  {
   "cell_type": "code",
   "execution_count": null,
   "metadata": {},
   "outputs": [],
   "source": []
  }
 ],
 "metadata": {
  "kernelspec": {
   "display_name": "Python 3",
   "language": "python",
   "name": "python3"
  },
  "language_info": {
   "codemirror_mode": {
    "name": "ipython",
    "version": 3
   },
   "file_extension": ".py",
   "mimetype": "text/x-python",
   "name": "python",
   "nbconvert_exporter": "python",
   "pygments_lexer": "ipython3",
   "version": "3.7.1"
  }
 },
 "nbformat": 4,
 "nbformat_minor": 2
}
