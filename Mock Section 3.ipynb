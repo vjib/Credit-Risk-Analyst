{
 "cells": [
  {
   "cell_type": "code",
   "execution_count": 1,
   "metadata": {},
   "outputs": [],
   "source": [
    "import pandas as pd\n",
    "import datetime\n",
    "import numpy as np\n",
    "import math\n",
    "\n",
    "import plotly.offline as py \n",
    "import plotly.graph_objs as go \n",
    "\n",
    "import matplotlib.pyplot as plt\n",
    "import matplotlib.ticker as mtick\n",
    "from numpy.polynomial.polynomial import polyfit\n",
    "\n",
    "import seaborn as sns\n",
    "\n",
    "from sklearn import preprocessing\n",
    "\n",
    "from sklearn.metrics import precision_score\n",
    "from sklearn.metrics import recall_score\n",
    "from sklearn.metrics import f1_score"
   ]
  },
  {
   "cell_type": "code",
   "execution_count": 77,
   "metadata": {},
   "outputs": [],
   "source": [
    "from sklearn.metrics import confusion_matrix\n",
    "from sklearn.model_selection import train_test_split\n",
    "from sklearn.metrics import roc_auc_score\n",
    "\n",
    "\n",
    "from sklearn.linear_model import LogisticRegression\n",
    "from sklearn import svm\n",
    "from sklearn.linear_model import BayesianRidge\n",
    "from sklearn.ensemble import RandomForestClassifier\n",
    "from sklearn.ensemble import GradientBoostingClassifier\n",
    "from xgboost import XGBClassifier"
   ]
  },
  {
   "cell_type": "code",
   "execution_count": 2,
   "metadata": {},
   "outputs": [],
   "source": [
    "file_url=\"Telco.csv\"\n",
    "\n",
    "df=pd.read_csv(file_url)"
   ]
  },
  {
   "cell_type": "code",
   "execution_count": 3,
   "metadata": {},
   "outputs": [
    {
     "data": {
      "text/html": [
       "<div>\n",
       "<style scoped>\n",
       "    .dataframe tbody tr th:only-of-type {\n",
       "        vertical-align: middle;\n",
       "    }\n",
       "\n",
       "    .dataframe tbody tr th {\n",
       "        vertical-align: top;\n",
       "    }\n",
       "\n",
       "    .dataframe thead th {\n",
       "        text-align: right;\n",
       "    }\n",
       "</style>\n",
       "<table border=\"1\" class=\"dataframe\">\n",
       "  <thead>\n",
       "    <tr style=\"text-align: right;\">\n",
       "      <th></th>\n",
       "      <th>customerID</th>\n",
       "      <th>Region</th>\n",
       "      <th>gender</th>\n",
       "      <th>SeniorCitizen</th>\n",
       "      <th>Partner</th>\n",
       "      <th>Dependents</th>\n",
       "      <th>tenure</th>\n",
       "      <th>PhoneService</th>\n",
       "      <th>MultipleLines</th>\n",
       "      <th>InternetService</th>\n",
       "      <th>...</th>\n",
       "      <th>DeviceProtection</th>\n",
       "      <th>TechSupport</th>\n",
       "      <th>StreamingTV</th>\n",
       "      <th>StreamingMovies</th>\n",
       "      <th>Contract</th>\n",
       "      <th>PaperlessBilling</th>\n",
       "      <th>PaymentMethod</th>\n",
       "      <th>MonthlyCharges</th>\n",
       "      <th>TotalCharges</th>\n",
       "      <th>Churn</th>\n",
       "    </tr>\n",
       "  </thead>\n",
       "  <tbody>\n",
       "    <tr>\n",
       "      <th>6340</th>\n",
       "      <td>3323-CPBWR</td>\n",
       "      <td>Germany</td>\n",
       "      <td>Male</td>\n",
       "      <td>0</td>\n",
       "      <td>No</td>\n",
       "      <td>No</td>\n",
       "      <td>23</td>\n",
       "      <td>Yes</td>\n",
       "      <td>Yes</td>\n",
       "      <td>Fiber optic</td>\n",
       "      <td>...</td>\n",
       "      <td>Yes</td>\n",
       "      <td>Yes</td>\n",
       "      <td>Yes</td>\n",
       "      <td>No</td>\n",
       "      <td>Month-to-month</td>\n",
       "      <td>Yes</td>\n",
       "      <td>Credit card (automatic)</td>\n",
       "      <td>96.90</td>\n",
       "      <td>2085.45</td>\n",
       "      <td>No</td>\n",
       "    </tr>\n",
       "    <tr>\n",
       "      <th>1644</th>\n",
       "      <td>3331-HQDTW</td>\n",
       "      <td>Germany</td>\n",
       "      <td>Female</td>\n",
       "      <td>0</td>\n",
       "      <td>No</td>\n",
       "      <td>No</td>\n",
       "      <td>34</td>\n",
       "      <td>Yes</td>\n",
       "      <td>Yes</td>\n",
       "      <td>Fiber optic</td>\n",
       "      <td>...</td>\n",
       "      <td>Yes</td>\n",
       "      <td>No</td>\n",
       "      <td>Yes</td>\n",
       "      <td>Yes</td>\n",
       "      <td>Month-to-month</td>\n",
       "      <td>Yes</td>\n",
       "      <td>Mailed check</td>\n",
       "      <td>109.80</td>\n",
       "      <td>3587.25</td>\n",
       "      <td>Yes</td>\n",
       "    </tr>\n",
       "    <tr>\n",
       "      <th>4481</th>\n",
       "      <td>8644-XYTSV</td>\n",
       "      <td>Germany</td>\n",
       "      <td>Male</td>\n",
       "      <td>0</td>\n",
       "      <td>Yes</td>\n",
       "      <td>No</td>\n",
       "      <td>42</td>\n",
       "      <td>No</td>\n",
       "      <td>No phone service</td>\n",
       "      <td>DSL</td>\n",
       "      <td>...</td>\n",
       "      <td>No</td>\n",
       "      <td>No</td>\n",
       "      <td>Yes</td>\n",
       "      <td>No</td>\n",
       "      <td>Month-to-month</td>\n",
       "      <td>Yes</td>\n",
       "      <td>Bank transfer (automatic)</td>\n",
       "      <td>40.15</td>\n",
       "      <td>1626.05</td>\n",
       "      <td>No</td>\n",
       "    </tr>\n",
       "    <tr>\n",
       "      <th>3472</th>\n",
       "      <td>4840-ORQXB</td>\n",
       "      <td>Germany</td>\n",
       "      <td>Female</td>\n",
       "      <td>1</td>\n",
       "      <td>No</td>\n",
       "      <td>No</td>\n",
       "      <td>56</td>\n",
       "      <td>Yes</td>\n",
       "      <td>Yes</td>\n",
       "      <td>Fiber optic</td>\n",
       "      <td>...</td>\n",
       "      <td>Yes</td>\n",
       "      <td>No</td>\n",
       "      <td>Yes</td>\n",
       "      <td>Yes</td>\n",
       "      <td>Month-to-month</td>\n",
       "      <td>No</td>\n",
       "      <td>Electronic check</td>\n",
       "      <td>104.75</td>\n",
       "      <td>5841.35</td>\n",
       "      <td>No</td>\n",
       "    </tr>\n",
       "    <tr>\n",
       "      <th>456</th>\n",
       "      <td>5149-CUZUJ</td>\n",
       "      <td>Germany</td>\n",
       "      <td>Male</td>\n",
       "      <td>0</td>\n",
       "      <td>Yes</td>\n",
       "      <td>Yes</td>\n",
       "      <td>28</td>\n",
       "      <td>Yes</td>\n",
       "      <td>No</td>\n",
       "      <td>Fiber optic</td>\n",
       "      <td>...</td>\n",
       "      <td>Yes</td>\n",
       "      <td>Yes</td>\n",
       "      <td>Yes</td>\n",
       "      <td>No</td>\n",
       "      <td>One year</td>\n",
       "      <td>No</td>\n",
       "      <td>Bank transfer (automatic)</td>\n",
       "      <td>92.90</td>\n",
       "      <td>2768.35</td>\n",
       "      <td>No</td>\n",
       "    </tr>\n",
       "    <tr>\n",
       "      <th>1584</th>\n",
       "      <td>9906-NHHVC</td>\n",
       "      <td>Germany</td>\n",
       "      <td>Female</td>\n",
       "      <td>1</td>\n",
       "      <td>No</td>\n",
       "      <td>No</td>\n",
       "      <td>65</td>\n",
       "      <td>No</td>\n",
       "      <td>No phone service</td>\n",
       "      <td>DSL</td>\n",
       "      <td>...</td>\n",
       "      <td>Yes</td>\n",
       "      <td>No</td>\n",
       "      <td>Yes</td>\n",
       "      <td>Yes</td>\n",
       "      <td>Two year</td>\n",
       "      <td>Yes</td>\n",
       "      <td>Bank transfer (automatic)</td>\n",
       "      <td>53.50</td>\n",
       "      <td>3517.9</td>\n",
       "      <td>No</td>\n",
       "    </tr>\n",
       "    <tr>\n",
       "      <th>6931</th>\n",
       "      <td>2371-KFUOG</td>\n",
       "      <td>Germany</td>\n",
       "      <td>Male</td>\n",
       "      <td>0</td>\n",
       "      <td>No</td>\n",
       "      <td>No</td>\n",
       "      <td>58</td>\n",
       "      <td>Yes</td>\n",
       "      <td>No</td>\n",
       "      <td>Fiber optic</td>\n",
       "      <td>...</td>\n",
       "      <td>No</td>\n",
       "      <td>No</td>\n",
       "      <td>Yes</td>\n",
       "      <td>Yes</td>\n",
       "      <td>One year</td>\n",
       "      <td>No</td>\n",
       "      <td>Bank transfer (automatic)</td>\n",
       "      <td>99.15</td>\n",
       "      <td>5720.95</td>\n",
       "      <td>No</td>\n",
       "    </tr>\n",
       "    <tr>\n",
       "      <th>5169</th>\n",
       "      <td>7105-BENQF</td>\n",
       "      <td>Germany</td>\n",
       "      <td>Male</td>\n",
       "      <td>0</td>\n",
       "      <td>No</td>\n",
       "      <td>Yes</td>\n",
       "      <td>15</td>\n",
       "      <td>Yes</td>\n",
       "      <td>No</td>\n",
       "      <td>DSL</td>\n",
       "      <td>...</td>\n",
       "      <td>Yes</td>\n",
       "      <td>No</td>\n",
       "      <td>No</td>\n",
       "      <td>Yes</td>\n",
       "      <td>One year</td>\n",
       "      <td>No</td>\n",
       "      <td>Mailed check</td>\n",
       "      <td>64.85</td>\n",
       "      <td>950.75</td>\n",
       "      <td>No</td>\n",
       "    </tr>\n",
       "    <tr>\n",
       "      <th>607</th>\n",
       "      <td>8672-OAUPW</td>\n",
       "      <td>Germany</td>\n",
       "      <td>Male</td>\n",
       "      <td>0</td>\n",
       "      <td>No</td>\n",
       "      <td>Yes</td>\n",
       "      <td>51</td>\n",
       "      <td>Yes</td>\n",
       "      <td>No</td>\n",
       "      <td>DSL</td>\n",
       "      <td>...</td>\n",
       "      <td>No</td>\n",
       "      <td>Yes</td>\n",
       "      <td>No</td>\n",
       "      <td>No</td>\n",
       "      <td>One year</td>\n",
       "      <td>No</td>\n",
       "      <td>Credit card (automatic)</td>\n",
       "      <td>47.85</td>\n",
       "      <td>2356.75</td>\n",
       "      <td>No</td>\n",
       "    </tr>\n",
       "    <tr>\n",
       "      <th>3241</th>\n",
       "      <td>3148-BLQJT</td>\n",
       "      <td>Germany</td>\n",
       "      <td>Male</td>\n",
       "      <td>0</td>\n",
       "      <td>No</td>\n",
       "      <td>No</td>\n",
       "      <td>1</td>\n",
       "      <td>Yes</td>\n",
       "      <td>No</td>\n",
       "      <td>No</td>\n",
       "      <td>...</td>\n",
       "      <td>No internet service</td>\n",
       "      <td>No internet service</td>\n",
       "      <td>No internet service</td>\n",
       "      <td>No internet service</td>\n",
       "      <td>Month-to-month</td>\n",
       "      <td>No</td>\n",
       "      <td>Mailed check</td>\n",
       "      <td>20.10</td>\n",
       "      <td>20.1</td>\n",
       "      <td>Yes</td>\n",
       "    </tr>\n",
       "  </tbody>\n",
       "</table>\n",
       "<p>10 rows × 22 columns</p>\n",
       "</div>"
      ],
      "text/plain": [
       "      customerID   Region  gender  SeniorCitizen Partner Dependents  tenure  \\\n",
       "6340  3323-CPBWR  Germany    Male              0      No         No      23   \n",
       "1644  3331-HQDTW  Germany  Female              0      No         No      34   \n",
       "4481  8644-XYTSV  Germany    Male              0     Yes         No      42   \n",
       "3472  4840-ORQXB  Germany  Female              1      No         No      56   \n",
       "456   5149-CUZUJ  Germany    Male              0     Yes        Yes      28   \n",
       "1584  9906-NHHVC  Germany  Female              1      No         No      65   \n",
       "6931  2371-KFUOG  Germany    Male              0      No         No      58   \n",
       "5169  7105-BENQF  Germany    Male              0      No        Yes      15   \n",
       "607   8672-OAUPW  Germany    Male              0      No        Yes      51   \n",
       "3241  3148-BLQJT  Germany    Male              0      No         No       1   \n",
       "\n",
       "     PhoneService     MultipleLines InternetService  ...    \\\n",
       "6340          Yes               Yes     Fiber optic  ...     \n",
       "1644          Yes               Yes     Fiber optic  ...     \n",
       "4481           No  No phone service             DSL  ...     \n",
       "3472          Yes               Yes     Fiber optic  ...     \n",
       "456           Yes                No     Fiber optic  ...     \n",
       "1584           No  No phone service             DSL  ...     \n",
       "6931          Yes                No     Fiber optic  ...     \n",
       "5169          Yes                No             DSL  ...     \n",
       "607           Yes                No             DSL  ...     \n",
       "3241          Yes                No              No  ...     \n",
       "\n",
       "         DeviceProtection          TechSupport          StreamingTV  \\\n",
       "6340                  Yes                  Yes                  Yes   \n",
       "1644                  Yes                   No                  Yes   \n",
       "4481                   No                   No                  Yes   \n",
       "3472                  Yes                   No                  Yes   \n",
       "456                   Yes                  Yes                  Yes   \n",
       "1584                  Yes                   No                  Yes   \n",
       "6931                   No                   No                  Yes   \n",
       "5169                  Yes                   No                   No   \n",
       "607                    No                  Yes                   No   \n",
       "3241  No internet service  No internet service  No internet service   \n",
       "\n",
       "          StreamingMovies        Contract PaperlessBilling  \\\n",
       "6340                   No  Month-to-month              Yes   \n",
       "1644                  Yes  Month-to-month              Yes   \n",
       "4481                   No  Month-to-month              Yes   \n",
       "3472                  Yes  Month-to-month               No   \n",
       "456                    No        One year               No   \n",
       "1584                  Yes        Two year              Yes   \n",
       "6931                  Yes        One year               No   \n",
       "5169                  Yes        One year               No   \n",
       "607                    No        One year               No   \n",
       "3241  No internet service  Month-to-month               No   \n",
       "\n",
       "                  PaymentMethod MonthlyCharges TotalCharges  Churn  \n",
       "6340    Credit card (automatic)          96.90      2085.45     No  \n",
       "1644               Mailed check         109.80      3587.25    Yes  \n",
       "4481  Bank transfer (automatic)          40.15      1626.05     No  \n",
       "3472           Electronic check         104.75      5841.35     No  \n",
       "456   Bank transfer (automatic)          92.90      2768.35     No  \n",
       "1584  Bank transfer (automatic)          53.50       3517.9     No  \n",
       "6931  Bank transfer (automatic)          99.15      5720.95     No  \n",
       "5169               Mailed check          64.85       950.75     No  \n",
       "607     Credit card (automatic)          47.85      2356.75     No  \n",
       "3241               Mailed check          20.10         20.1    Yes  \n",
       "\n",
       "[10 rows x 22 columns]"
      ]
     },
     "execution_count": 3,
     "metadata": {},
     "output_type": "execute_result"
    }
   ],
   "source": [
    "df.sample(10)"
   ]
  },
  {
   "cell_type": "code",
   "execution_count": 262,
   "metadata": {},
   "outputs": [
    {
     "data": {
      "text/html": [
       "<div>\n",
       "<style scoped>\n",
       "    .dataframe tbody tr th:only-of-type {\n",
       "        vertical-align: middle;\n",
       "    }\n",
       "\n",
       "    .dataframe tbody tr th {\n",
       "        vertical-align: top;\n",
       "    }\n",
       "\n",
       "    .dataframe thead th {\n",
       "        text-align: right;\n",
       "    }\n",
       "</style>\n",
       "<table border=\"1\" class=\"dataframe\">\n",
       "  <thead>\n",
       "    <tr style=\"text-align: right;\">\n",
       "      <th></th>\n",
       "      <th>SeniorCitizen</th>\n",
       "      <th>tenure</th>\n",
       "      <th>MonthlyCharges</th>\n",
       "    </tr>\n",
       "  </thead>\n",
       "  <tbody>\n",
       "    <tr>\n",
       "      <th>count</th>\n",
       "      <td>7043.000000</td>\n",
       "      <td>7043.000000</td>\n",
       "      <td>7043.000000</td>\n",
       "    </tr>\n",
       "    <tr>\n",
       "      <th>mean</th>\n",
       "      <td>0.162147</td>\n",
       "      <td>32.371149</td>\n",
       "      <td>64.761692</td>\n",
       "    </tr>\n",
       "    <tr>\n",
       "      <th>std</th>\n",
       "      <td>0.368612</td>\n",
       "      <td>24.559481</td>\n",
       "      <td>30.090047</td>\n",
       "    </tr>\n",
       "    <tr>\n",
       "      <th>min</th>\n",
       "      <td>0.000000</td>\n",
       "      <td>0.000000</td>\n",
       "      <td>18.250000</td>\n",
       "    </tr>\n",
       "    <tr>\n",
       "      <th>25%</th>\n",
       "      <td>0.000000</td>\n",
       "      <td>9.000000</td>\n",
       "      <td>35.500000</td>\n",
       "    </tr>\n",
       "    <tr>\n",
       "      <th>50%</th>\n",
       "      <td>0.000000</td>\n",
       "      <td>29.000000</td>\n",
       "      <td>70.350000</td>\n",
       "    </tr>\n",
       "    <tr>\n",
       "      <th>75%</th>\n",
       "      <td>0.000000</td>\n",
       "      <td>55.000000</td>\n",
       "      <td>89.850000</td>\n",
       "    </tr>\n",
       "    <tr>\n",
       "      <th>max</th>\n",
       "      <td>1.000000</td>\n",
       "      <td>72.000000</td>\n",
       "      <td>118.750000</td>\n",
       "    </tr>\n",
       "  </tbody>\n",
       "</table>\n",
       "</div>"
      ],
      "text/plain": [
       "       SeniorCitizen       tenure  MonthlyCharges\n",
       "count    7043.000000  7043.000000     7043.000000\n",
       "mean        0.162147    32.371149       64.761692\n",
       "std         0.368612    24.559481       30.090047\n",
       "min         0.000000     0.000000       18.250000\n",
       "25%         0.000000     9.000000       35.500000\n",
       "50%         0.000000    29.000000       70.350000\n",
       "75%         0.000000    55.000000       89.850000\n",
       "max         1.000000    72.000000      118.750000"
      ]
     },
     "execution_count": 262,
     "metadata": {},
     "output_type": "execute_result"
    }
   ],
   "source": [
    "df.describe()"
   ]
  },
  {
   "cell_type": "code",
   "execution_count": 279,
   "metadata": {},
   "outputs": [],
   "source": [
    "serviceDict={}\n",
    "serviceDict['gender']=[]\n",
    "serviceDict['SeniorCitizen']=[]\n",
    "serviceDict['Partner']=[]\n",
    "serviceDict['Dependents']=[]\n",
    "serviceDict['Tenure']=[]\n",
    "serviceDict['PhoneService']=[]\n",
    "serviceDict['MultipleLines']=[]\n",
    "serviceDict['InternetService']=[]\n",
    "serviceDict['OnlineSecurity']=[]\n",
    "serviceDict['OnlineBackup']=[]\n",
    "serviceDict['DeviceProtection']=[]\n",
    "serviceDict['TechSupport']=[]\n",
    "serviceDict['StreamingTV']=[]\n",
    "serviceDict['StreamingMovies']=[]\n",
    "serviceDict['Contact']=[]\n",
    "serviceDict['PaperlessBilling']=[]\n",
    "serviceDict['PaymentMethodBank']=[]\n",
    "serviceDict['PaymentMethodCredit']=[]\n",
    "serviceDict['PaymentMethodCheck']=[]\n",
    "serviceDict['PaymentMethodMail']=[]\n",
    "serviceDict['MonthlyCharges']=[]\n",
    "serviceDict['TotalCharges']=[]\n",
    "\n",
    "for index,row in df.iterrows():\n",
    "    \n",
    "    gender=row['gender']\n",
    "    senior=row['SeniorCitizen']\n",
    "    partner=row['Partner']\n",
    "    dependent=row['Dependents']\n",
    "    tenure=row['tenure']\n",
    "    phone_service=row['PhoneService']\n",
    "    multiple_line=row['MultipleLines']\n",
    "    internet_service=row['InternetService']\n",
    "    online_security=row['OnlineSecurity']\n",
    "    online_backup=row['OnlineBackup']\n",
    "    device_protection=row['DeviceProtection']\n",
    "    tech_support=row['TechSupport']\n",
    "    streamingTV=row['StreamingTV']\n",
    "    streamingMovies=row['StreamingMovies']\n",
    "    contact=row['Contract']\n",
    "    paperless=row['PaperlessBilling']\n",
    "    paymentMethod=row['PaymentMethod']\n",
    "    charge=row[\"MonthlyCharges\"]\n",
    "    total=row['TotalCharges']\n",
    "    churn=row[\"Churn\"]\n",
    "\n",
    "    \n",
    "    if gender=='Male':\n",
    "        serviceDict['gender'].append(1)\n",
    "    else:\n",
    "        serviceDict['gender'].append(0)\n",
    "        \n",
    "    serviceDict['SeniorCitizen'].append(senior)\n",
    "    \n",
    "    if partner=='Yes':\n",
    "        serviceDict['Partner'].append(1)\n",
    "    else:\n",
    "        serviceDict['Partner'].append(0)\n",
    "        \n",
    "    if dependent=='Yes':\n",
    "        serviceDict['Dependents'].append(1)\n",
    "    else:\n",
    "        serviceDict['Dependents'].append(0)\n",
    "        \n",
    "    serviceDict['Tenure'].append(tenure)\n",
    "    \n",
    "    if phone_service==\"Yes\":\n",
    "        serviceDict['PhoneService'].append(1)\n",
    "    else:\n",
    "        serviceDict['PhoneService'].append(0)\n",
    "        \n",
    "    if multiple_line==\"Yes\":\n",
    "        serviceDict['MultipleLines'].append(1)\n",
    "    else:\n",
    "        serviceDict['MultipleLines'].append(0)\n",
    "        \n",
    "    if internet_service!=\"No\":\n",
    "        serviceDict['InternetService'].append(1)\n",
    "    else:\n",
    "        serviceDict['InternetService'].append(0)\n",
    "        \n",
    "    if online_security==\"Yes\":\n",
    "        serviceDict['OnlineSecurity'].append(1)\n",
    "    else:\n",
    "        serviceDict['OnlineSecurity'].append(0)\n",
    "        \n",
    "    if online_backup==\"Yes\":\n",
    "        serviceDict['OnlineBackup'].append(1)\n",
    "    else:\n",
    "        serviceDict['OnlineBackup'].append(0)\n",
    "        \n",
    "    if device_protection==\"Yes\":\n",
    "        serviceDict['DeviceProtection'].append(1)\n",
    "    else:\n",
    "        serviceDict['DeviceProtection'].append(0)\n",
    "        \n",
    "    if tech_support==\"Yes\":\n",
    "        serviceDict['TechSupport'].append(1)\n",
    "    else:\n",
    "        serviceDict['TechSupport'].append(0)\n",
    "        \n",
    "    if streamingTV==\"Yes\":\n",
    "        serviceDict['StreamingTV'].append(1)\n",
    "    else:\n",
    "        serviceDict['StreamingTV'].append(0)\n",
    "        \n",
    "    if streamingMovies==\"Yes\":\n",
    "        serviceDict['StreamingMovies'].append(1)\n",
    "    else:\n",
    "        serviceDict['StreamingMovies'].append(0)\n",
    "       \n",
    "    if contact=='One year':\n",
    "        serviceDict['Contact'].append(1)\n",
    "    elif contact=='Two year':\n",
    "        serviceDict['Contact'].append(2)\n",
    "    else:\n",
    "        serviceDict['Contact'].append(1/12)\n",
    "        \n",
    "    if paperless=='Yes':\n",
    "        serviceDict['PaperlessBilling'].append(1)\n",
    "    else:\n",
    "        serviceDict['PaperlessBilling'].append(0)\n",
    "        \n",
    "    if paymentMethod==\"Bank transfer (automatic)\":\n",
    "        serviceDict['PaymentMethodBank'].append(1)\n",
    "    else:\n",
    "        serviceDict['PaymentMethodBank'].append(0)\n",
    "        \n",
    "    if paymentMethod==\"Credit card (automatic)\":\n",
    "        serviceDict['PaymentMethodCredit'].append(1)\n",
    "    else:\n",
    "        serviceDict['PaymentMethodCredit'].append(0)\n",
    "        \n",
    "    if paymentMethod==\"Electronic check\":\n",
    "        serviceDict['PaymentMethodCheck'].append(1)\n",
    "    else:\n",
    "        serviceDict['PaymentMethodCheck'].append(0)\n",
    "        \n",
    "    if paymentMethod==\"Mailed check\":\n",
    "        serviceDict['PaymentMethodMail'].append(1)\n",
    "    else:\n",
    "        serviceDict['PaymentMethodMail'].append(0)\n",
    "    \n",
    "    serviceDict['MonthlyCharges'].append(charge)\n",
    "    \n",
    "    serviceDict['TotalCharges'].append(total)"
   ]
  },
  {
   "cell_type": "code",
   "execution_count": 280,
   "metadata": {},
   "outputs": [
    {
     "data": {
      "text/html": [
       "<div>\n",
       "<style scoped>\n",
       "    .dataframe tbody tr th:only-of-type {\n",
       "        vertical-align: middle;\n",
       "    }\n",
       "\n",
       "    .dataframe tbody tr th {\n",
       "        vertical-align: top;\n",
       "    }\n",
       "\n",
       "    .dataframe thead th {\n",
       "        text-align: right;\n",
       "    }\n",
       "</style>\n",
       "<table border=\"1\" class=\"dataframe\">\n",
       "  <thead>\n",
       "    <tr style=\"text-align: right;\">\n",
       "      <th></th>\n",
       "      <th>gender</th>\n",
       "      <th>SeniorCitizen</th>\n",
       "      <th>Partner</th>\n",
       "      <th>Dependents</th>\n",
       "      <th>Tenure</th>\n",
       "      <th>PhoneService</th>\n",
       "      <th>MultipleLines</th>\n",
       "      <th>InternetService</th>\n",
       "      <th>OnlineSecurity</th>\n",
       "      <th>OnlineBackup</th>\n",
       "      <th>...</th>\n",
       "      <th>StreamingTV</th>\n",
       "      <th>StreamingMovies</th>\n",
       "      <th>Contact</th>\n",
       "      <th>PaperlessBilling</th>\n",
       "      <th>PaymentMethodBank</th>\n",
       "      <th>PaymentMethodCredit</th>\n",
       "      <th>PaymentMethodCheck</th>\n",
       "      <th>PaymentMethodMail</th>\n",
       "      <th>MonthlyCharges</th>\n",
       "      <th>TotalCharges</th>\n",
       "    </tr>\n",
       "  </thead>\n",
       "  <tbody>\n",
       "    <tr>\n",
       "      <th>6896</th>\n",
       "      <td>0</td>\n",
       "      <td>0</td>\n",
       "      <td>0</td>\n",
       "      <td>0</td>\n",
       "      <td>1</td>\n",
       "      <td>1</td>\n",
       "      <td>0</td>\n",
       "      <td>1</td>\n",
       "      <td>0</td>\n",
       "      <td>0</td>\n",
       "      <td>...</td>\n",
       "      <td>0</td>\n",
       "      <td>0</td>\n",
       "      <td>0.083333</td>\n",
       "      <td>0</td>\n",
       "      <td>0</td>\n",
       "      <td>0</td>\n",
       "      <td>0</td>\n",
       "      <td>1</td>\n",
       "      <td>43.95</td>\n",
       "      <td>43.95</td>\n",
       "    </tr>\n",
       "    <tr>\n",
       "      <th>3774</th>\n",
       "      <td>1</td>\n",
       "      <td>1</td>\n",
       "      <td>1</td>\n",
       "      <td>1</td>\n",
       "      <td>52</td>\n",
       "      <td>1</td>\n",
       "      <td>1</td>\n",
       "      <td>1</td>\n",
       "      <td>0</td>\n",
       "      <td>1</td>\n",
       "      <td>...</td>\n",
       "      <td>1</td>\n",
       "      <td>1</td>\n",
       "      <td>1.000000</td>\n",
       "      <td>1</td>\n",
       "      <td>0</td>\n",
       "      <td>0</td>\n",
       "      <td>1</td>\n",
       "      <td>0</td>\n",
       "      <td>80.85</td>\n",
       "      <td>4079.55</td>\n",
       "    </tr>\n",
       "    <tr>\n",
       "      <th>4409</th>\n",
       "      <td>1</td>\n",
       "      <td>1</td>\n",
       "      <td>1</td>\n",
       "      <td>0</td>\n",
       "      <td>71</td>\n",
       "      <td>0</td>\n",
       "      <td>0</td>\n",
       "      <td>1</td>\n",
       "      <td>1</td>\n",
       "      <td>1</td>\n",
       "      <td>...</td>\n",
       "      <td>0</td>\n",
       "      <td>0</td>\n",
       "      <td>2.000000</td>\n",
       "      <td>0</td>\n",
       "      <td>0</td>\n",
       "      <td>1</td>\n",
       "      <td>0</td>\n",
       "      <td>0</td>\n",
       "      <td>46.35</td>\n",
       "      <td>3353.4</td>\n",
       "    </tr>\n",
       "    <tr>\n",
       "      <th>4546</th>\n",
       "      <td>0</td>\n",
       "      <td>0</td>\n",
       "      <td>1</td>\n",
       "      <td>1</td>\n",
       "      <td>12</td>\n",
       "      <td>1</td>\n",
       "      <td>1</td>\n",
       "      <td>1</td>\n",
       "      <td>0</td>\n",
       "      <td>1</td>\n",
       "      <td>...</td>\n",
       "      <td>0</td>\n",
       "      <td>0</td>\n",
       "      <td>0.083333</td>\n",
       "      <td>1</td>\n",
       "      <td>0</td>\n",
       "      <td>0</td>\n",
       "      <td>1</td>\n",
       "      <td>0</td>\n",
       "      <td>84.50</td>\n",
       "      <td>916.9</td>\n",
       "    </tr>\n",
       "    <tr>\n",
       "      <th>736</th>\n",
       "      <td>0</td>\n",
       "      <td>0</td>\n",
       "      <td>0</td>\n",
       "      <td>0</td>\n",
       "      <td>30</td>\n",
       "      <td>1</td>\n",
       "      <td>1</td>\n",
       "      <td>1</td>\n",
       "      <td>0</td>\n",
       "      <td>1</td>\n",
       "      <td>...</td>\n",
       "      <td>1</td>\n",
       "      <td>1</td>\n",
       "      <td>1.000000</td>\n",
       "      <td>0</td>\n",
       "      <td>0</td>\n",
       "      <td>1</td>\n",
       "      <td>0</td>\n",
       "      <td>0</td>\n",
       "      <td>110.45</td>\n",
       "      <td>3327.05</td>\n",
       "    </tr>\n",
       "  </tbody>\n",
       "</table>\n",
       "<p>5 rows × 22 columns</p>\n",
       "</div>"
      ],
      "text/plain": [
       "      gender  SeniorCitizen  Partner  Dependents  Tenure  PhoneService  \\\n",
       "6896       0              0        0           0       1             1   \n",
       "3774       1              1        1           1      52             1   \n",
       "4409       1              1        1           0      71             0   \n",
       "4546       0              0        1           1      12             1   \n",
       "736        0              0        0           0      30             1   \n",
       "\n",
       "      MultipleLines  InternetService  OnlineSecurity  OnlineBackup  \\\n",
       "6896              0                1               0             0   \n",
       "3774              1                1               0             1   \n",
       "4409              0                1               1             1   \n",
       "4546              1                1               0             1   \n",
       "736               1                1               0             1   \n",
       "\n",
       "          ...       StreamingTV  StreamingMovies   Contact  PaperlessBilling  \\\n",
       "6896      ...                 0                0  0.083333                 0   \n",
       "3774      ...                 1                1  1.000000                 1   \n",
       "4409      ...                 0                0  2.000000                 0   \n",
       "4546      ...                 0                0  0.083333                 1   \n",
       "736       ...                 1                1  1.000000                 0   \n",
       "\n",
       "      PaymentMethodBank  PaymentMethodCredit  PaymentMethodCheck  \\\n",
       "6896                  0                    0                   0   \n",
       "3774                  0                    0                   1   \n",
       "4409                  0                    1                   0   \n",
       "4546                  0                    0                   1   \n",
       "736                   0                    1                   0   \n",
       "\n",
       "      PaymentMethodMail  MonthlyCharges  TotalCharges  \n",
       "6896                  1           43.95         43.95  \n",
       "3774                  0           80.85       4079.55  \n",
       "4409                  0           46.35        3353.4  \n",
       "4546                  0           84.50         916.9  \n",
       "736                   0          110.45       3327.05  \n",
       "\n",
       "[5 rows x 22 columns]"
      ]
     },
     "execution_count": 280,
     "metadata": {},
     "output_type": "execute_result"
    }
   ],
   "source": [
    "df_service = pd.DataFrame(serviceDict) \n",
    "df_service.sample(5)"
   ]
  },
  {
   "cell_type": "code",
   "execution_count": 282,
   "metadata": {},
   "outputs": [
    {
     "data": {
      "image/png": "[encoded data removed]",
      "text/plain": [
       "<Figure size 720x720 with 2 Axes>"
      ]
     },
     "metadata": {
      "needs_background": "light"
     },
     "output_type": "display_data"
    }
   ],
   "source": [
    "plt.figure(figsize=(10,10))\n",
    "sns.heatmap(df_service.corr(),linewidths=0.1,vmax=1.0, \n",
    "            square=True,  linecolor='white', annot=True)\n",
    "plt.show()"
   ]
  },
  {
   "cell_type": "code",
   "execution_count": 306,
   "metadata": {},
   "outputs": [],
   "source": [
    "bins = [0,12,24,36,48,60,72,84]\n",
    "df['tenure_bin'] = pd.cut(df['tenure'],bins,labels=[1,2,3,4,5,6,7])"
   ]
  },
  {
   "cell_type": "code",
   "execution_count": 307,
   "metadata": {},
   "outputs": [],
   "source": [
    "bins = [0,25,50,75,100,125]\n",
    "df['charge_bin'] = pd.cut(df['tenure'],bins,labels=[1,2,3,4,5])"
   ]
  },
  {
   "cell_type": "code",
   "execution_count": 308,
   "metadata": {},
   "outputs": [
    {
     "data": {
      "text/html": [
       "<div>\n",
       "<style scoped>\n",
       "    .dataframe tbody tr th:only-of-type {\n",
       "        vertical-align: middle;\n",
       "    }\n",
       "\n",
       "    .dataframe tbody tr th {\n",
       "        vertical-align: top;\n",
       "    }\n",
       "\n",
       "    .dataframe thead th {\n",
       "        text-align: right;\n",
       "    }\n",
       "</style>\n",
       "<table border=\"1\" class=\"dataframe\">\n",
       "  <thead>\n",
       "    <tr style=\"text-align: right;\">\n",
       "      <th></th>\n",
       "      <th>customerID</th>\n",
       "      <th>Region</th>\n",
       "      <th>gender</th>\n",
       "      <th>SeniorCitizen</th>\n",
       "      <th>Partner</th>\n",
       "      <th>Dependents</th>\n",
       "      <th>tenure</th>\n",
       "      <th>PhoneService</th>\n",
       "      <th>MultipleLines</th>\n",
       "      <th>InternetService</th>\n",
       "      <th>...</th>\n",
       "      <th>StreamingTV</th>\n",
       "      <th>StreamingMovies</th>\n",
       "      <th>Contract</th>\n",
       "      <th>PaperlessBilling</th>\n",
       "      <th>PaymentMethod</th>\n",
       "      <th>MonthlyCharges</th>\n",
       "      <th>TotalCharges</th>\n",
       "      <th>Churn</th>\n",
       "      <th>tenure_bin</th>\n",
       "      <th>charge_bin</th>\n",
       "    </tr>\n",
       "  </thead>\n",
       "  <tbody>\n",
       "    <tr>\n",
       "      <th>4748</th>\n",
       "      <td>3125-RAHBV</td>\n",
       "      <td>Germany</td>\n",
       "      <td>Male</td>\n",
       "      <td>0</td>\n",
       "      <td>No</td>\n",
       "      <td>No</td>\n",
       "      <td>22</td>\n",
       "      <td>Yes</td>\n",
       "      <td>No</td>\n",
       "      <td>No</td>\n",
       "      <td>...</td>\n",
       "      <td>No internet service</td>\n",
       "      <td>No internet service</td>\n",
       "      <td>One year</td>\n",
       "      <td>No</td>\n",
       "      <td>Credit card (automatic)</td>\n",
       "      <td>20.30</td>\n",
       "      <td>467.15</td>\n",
       "      <td>No</td>\n",
       "      <td>2</td>\n",
       "      <td>1</td>\n",
       "    </tr>\n",
       "    <tr>\n",
       "      <th>6993</th>\n",
       "      <td>6583-QGCSI</td>\n",
       "      <td>Germany</td>\n",
       "      <td>Female</td>\n",
       "      <td>1</td>\n",
       "      <td>Yes</td>\n",
       "      <td>No</td>\n",
       "      <td>50</td>\n",
       "      <td>Yes</td>\n",
       "      <td>Yes</td>\n",
       "      <td>Fiber optic</td>\n",
       "      <td>...</td>\n",
       "      <td>Yes</td>\n",
       "      <td>No</td>\n",
       "      <td>Month-to-month</td>\n",
       "      <td>Yes</td>\n",
       "      <td>Electronic check</td>\n",
       "      <td>88.05</td>\n",
       "      <td>4367.35</td>\n",
       "      <td>Yes</td>\n",
       "      <td>5</td>\n",
       "      <td>2</td>\n",
       "    </tr>\n",
       "    <tr>\n",
       "      <th>932</th>\n",
       "      <td>5787-KXGIY</td>\n",
       "      <td>Germany</td>\n",
       "      <td>Male</td>\n",
       "      <td>0</td>\n",
       "      <td>Yes</td>\n",
       "      <td>No</td>\n",
       "      <td>72</td>\n",
       "      <td>Yes</td>\n",
       "      <td>No</td>\n",
       "      <td>No</td>\n",
       "      <td>...</td>\n",
       "      <td>No internet service</td>\n",
       "      <td>No internet service</td>\n",
       "      <td>Two year</td>\n",
       "      <td>No</td>\n",
       "      <td>Credit card (automatic)</td>\n",
       "      <td>19.30</td>\n",
       "      <td>1304.8</td>\n",
       "      <td>No</td>\n",
       "      <td>6</td>\n",
       "      <td>3</td>\n",
       "    </tr>\n",
       "    <tr>\n",
       "      <th>5748</th>\n",
       "      <td>4686-UXDML</td>\n",
       "      <td>Germany</td>\n",
       "      <td>Female</td>\n",
       "      <td>0</td>\n",
       "      <td>No</td>\n",
       "      <td>No</td>\n",
       "      <td>21</td>\n",
       "      <td>Yes</td>\n",
       "      <td>Yes</td>\n",
       "      <td>Fiber optic</td>\n",
       "      <td>...</td>\n",
       "      <td>Yes</td>\n",
       "      <td>Yes</td>\n",
       "      <td>Month-to-month</td>\n",
       "      <td>Yes</td>\n",
       "      <td>Credit card (automatic)</td>\n",
       "      <td>99.85</td>\n",
       "      <td>1992.55</td>\n",
       "      <td>No</td>\n",
       "      <td>2</td>\n",
       "      <td>1</td>\n",
       "    </tr>\n",
       "    <tr>\n",
       "      <th>6173</th>\n",
       "      <td>2378-HTWFW</td>\n",
       "      <td>Germany</td>\n",
       "      <td>Male</td>\n",
       "      <td>1</td>\n",
       "      <td>No</td>\n",
       "      <td>No</td>\n",
       "      <td>35</td>\n",
       "      <td>Yes</td>\n",
       "      <td>Yes</td>\n",
       "      <td>Fiber optic</td>\n",
       "      <td>...</td>\n",
       "      <td>No</td>\n",
       "      <td>Yes</td>\n",
       "      <td>Month-to-month</td>\n",
       "      <td>No</td>\n",
       "      <td>Credit card (automatic)</td>\n",
       "      <td>91.00</td>\n",
       "      <td>3180.5</td>\n",
       "      <td>No</td>\n",
       "      <td>3</td>\n",
       "      <td>2</td>\n",
       "    </tr>\n",
       "    <tr>\n",
       "      <th>6829</th>\n",
       "      <td>8148-WOCMK</td>\n",
       "      <td>Germany</td>\n",
       "      <td>Male</td>\n",
       "      <td>0</td>\n",
       "      <td>Yes</td>\n",
       "      <td>Yes</td>\n",
       "      <td>8</td>\n",
       "      <td>Yes</td>\n",
       "      <td>No</td>\n",
       "      <td>No</td>\n",
       "      <td>...</td>\n",
       "      <td>No internet service</td>\n",
       "      <td>No internet service</td>\n",
       "      <td>Two year</td>\n",
       "      <td>No</td>\n",
       "      <td>Credit card (automatic)</td>\n",
       "      <td>19.60</td>\n",
       "      <td>125</td>\n",
       "      <td>No</td>\n",
       "      <td>1</td>\n",
       "      <td>1</td>\n",
       "    </tr>\n",
       "    <tr>\n",
       "      <th>800</th>\n",
       "      <td>5671-RQRLP</td>\n",
       "      <td>Germany</td>\n",
       "      <td>Female</td>\n",
       "      <td>1</td>\n",
       "      <td>Yes</td>\n",
       "      <td>No</td>\n",
       "      <td>70</td>\n",
       "      <td>Yes</td>\n",
       "      <td>Yes</td>\n",
       "      <td>Fiber optic</td>\n",
       "      <td>...</td>\n",
       "      <td>No</td>\n",
       "      <td>No</td>\n",
       "      <td>Two year</td>\n",
       "      <td>Yes</td>\n",
       "      <td>Credit card (automatic)</td>\n",
       "      <td>75.65</td>\n",
       "      <td>5411.4</td>\n",
       "      <td>No</td>\n",
       "      <td>6</td>\n",
       "      <td>3</td>\n",
       "    </tr>\n",
       "    <tr>\n",
       "      <th>47</th>\n",
       "      <td>7760-OYPDY</td>\n",
       "      <td>France</td>\n",
       "      <td>Female</td>\n",
       "      <td>0</td>\n",
       "      <td>No</td>\n",
       "      <td>No</td>\n",
       "      <td>2</td>\n",
       "      <td>Yes</td>\n",
       "      <td>No</td>\n",
       "      <td>Fiber optic</td>\n",
       "      <td>...</td>\n",
       "      <td>Yes</td>\n",
       "      <td>No</td>\n",
       "      <td>Month-to-month</td>\n",
       "      <td>Yes</td>\n",
       "      <td>Electronic check</td>\n",
       "      <td>80.65</td>\n",
       "      <td>144.15</td>\n",
       "      <td>Yes</td>\n",
       "      <td>1</td>\n",
       "      <td>1</td>\n",
       "    </tr>\n",
       "    <tr>\n",
       "      <th>6611</th>\n",
       "      <td>8690-UPCZI</td>\n",
       "      <td>Germany</td>\n",
       "      <td>Male</td>\n",
       "      <td>0</td>\n",
       "      <td>Yes</td>\n",
       "      <td>Yes</td>\n",
       "      <td>29</td>\n",
       "      <td>Yes</td>\n",
       "      <td>Yes</td>\n",
       "      <td>DSL</td>\n",
       "      <td>...</td>\n",
       "      <td>Yes</td>\n",
       "      <td>No</td>\n",
       "      <td>One year</td>\n",
       "      <td>No</td>\n",
       "      <td>Bank transfer (automatic)</td>\n",
       "      <td>69.05</td>\n",
       "      <td>1958.45</td>\n",
       "      <td>No</td>\n",
       "      <td>3</td>\n",
       "      <td>2</td>\n",
       "    </tr>\n",
       "    <tr>\n",
       "      <th>1519</th>\n",
       "      <td>7881-EVUAD</td>\n",
       "      <td>Germany</td>\n",
       "      <td>Female</td>\n",
       "      <td>0</td>\n",
       "      <td>No</td>\n",
       "      <td>No</td>\n",
       "      <td>2</td>\n",
       "      <td>No</td>\n",
       "      <td>No phone service</td>\n",
       "      <td>DSL</td>\n",
       "      <td>...</td>\n",
       "      <td>No</td>\n",
       "      <td>Yes</td>\n",
       "      <td>Month-to-month</td>\n",
       "      <td>Yes</td>\n",
       "      <td>Electronic check</td>\n",
       "      <td>42.60</td>\n",
       "      <td>72.4</td>\n",
       "      <td>Yes</td>\n",
       "      <td>1</td>\n",
       "      <td>1</td>\n",
       "    </tr>\n",
       "  </tbody>\n",
       "</table>\n",
       "<p>10 rows × 24 columns</p>\n",
       "</div>"
      ],
      "text/plain": [
       "      customerID   Region  gender  SeniorCitizen Partner Dependents  tenure  \\\n",
       "4748  3125-RAHBV  Germany    Male              0      No         No      22   \n",
       "6993  6583-QGCSI  Germany  Female              1     Yes         No      50   \n",
       "932   5787-KXGIY  Germany    Male              0     Yes         No      72   \n",
       "5748  4686-UXDML  Germany  Female              0      No         No      21   \n",
       "6173  2378-HTWFW  Germany    Male              1      No         No      35   \n",
       "6829  8148-WOCMK  Germany    Male              0     Yes        Yes       8   \n",
       "800   5671-RQRLP  Germany  Female              1     Yes         No      70   \n",
       "47    7760-OYPDY   France  Female              0      No         No       2   \n",
       "6611  8690-UPCZI  Germany    Male              0     Yes        Yes      29   \n",
       "1519  7881-EVUAD  Germany  Female              0      No         No       2   \n",
       "\n",
       "     PhoneService     MultipleLines InternetService     ...      \\\n",
       "4748          Yes                No              No     ...       \n",
       "6993          Yes               Yes     Fiber optic     ...       \n",
       "932           Yes                No              No     ...       \n",
       "5748          Yes               Yes     Fiber optic     ...       \n",
       "6173          Yes               Yes     Fiber optic     ...       \n",
       "6829          Yes                No              No     ...       \n",
       "800           Yes               Yes     Fiber optic     ...       \n",
       "47            Yes                No     Fiber optic     ...       \n",
       "6611          Yes               Yes             DSL     ...       \n",
       "1519           No  No phone service             DSL     ...       \n",
       "\n",
       "              StreamingTV      StreamingMovies        Contract  \\\n",
       "4748  No internet service  No internet service        One year   \n",
       "6993                  Yes                   No  Month-to-month   \n",
       "932   No internet service  No internet service        Two year   \n",
       "5748                  Yes                  Yes  Month-to-month   \n",
       "6173                   No                  Yes  Month-to-month   \n",
       "6829  No internet service  No internet service        Two year   \n",
       "800                    No                   No        Two year   \n",
       "47                    Yes                   No  Month-to-month   \n",
       "6611                  Yes                   No        One year   \n",
       "1519                   No                  Yes  Month-to-month   \n",
       "\n",
       "     PaperlessBilling              PaymentMethod MonthlyCharges TotalCharges  \\\n",
       "4748               No    Credit card (automatic)          20.30       467.15   \n",
       "6993              Yes           Electronic check          88.05      4367.35   \n",
       "932                No    Credit card (automatic)          19.30       1304.8   \n",
       "5748              Yes    Credit card (automatic)          99.85      1992.55   \n",
       "6173               No    Credit card (automatic)          91.00       3180.5   \n",
       "6829               No    Credit card (automatic)          19.60          125   \n",
       "800               Yes    Credit card (automatic)          75.65       5411.4   \n",
       "47                Yes           Electronic check          80.65       144.15   \n",
       "6611               No  Bank transfer (automatic)          69.05      1958.45   \n",
       "1519              Yes           Electronic check          42.60         72.4   \n",
       "\n",
       "     Churn tenure_bin  charge_bin  \n",
       "4748    No          2           1  \n",
       "6993   Yes          5           2  \n",
       "932     No          6           3  \n",
       "5748    No          2           1  \n",
       "6173    No          3           2  \n",
       "6829    No          1           1  \n",
       "800     No          6           3  \n",
       "47     Yes          1           1  \n",
       "6611    No          3           2  \n",
       "1519   Yes          1           1  \n",
       "\n",
       "[10 rows x 24 columns]"
      ]
     },
     "execution_count": 308,
     "metadata": {},
     "output_type": "execute_result"
    }
   ],
   "source": [
    "df.sample(10)"
   ]
  },
  {
   "cell_type": "code",
   "execution_count": 4,
   "metadata": {},
   "outputs": [],
   "source": [
    "inputs_regress=[]\n",
    "outputs_regress=[]\n",
    "\n",
    "for index,row in df.iterrows():\n",
    "    \n",
    "    temp_input=[0]*22\n",
    "    \n",
    "    gender=row['gender']\n",
    "    senior=row['SeniorCitizen']\n",
    "    partner=row['Partner']\n",
    "    dependent=row['Dependents']\n",
    "    tenure=row['tenure']\n",
    "    phone_service=row['PhoneService']\n",
    "    multiple_line=row['MultipleLines']\n",
    "    internet_service=row['InternetService']\n",
    "    online_security=row['OnlineSecurity']\n",
    "    online_backup=row['OnlineBackup']\n",
    "    device_protection=row['DeviceProtection']\n",
    "    tech_support=row['TechSupport']\n",
    "    streamingTV=row['StreamingTV']\n",
    "    streamingMovies=row['StreamingMovies']\n",
    "    contact=row['Contract']\n",
    "    paperless=row['PaperlessBilling']\n",
    "    paymentMethod=row['PaymentMethod']\n",
    "    charge=row[\"MonthlyCharges\"]\n",
    "    churn=row[\"Churn\"]\n",
    "    \n",
    "    if gender=='Male':\n",
    "        temp_input[0]=1\n",
    "    \n",
    "    temp_input[1]=senior\n",
    "    \n",
    "    if partner=='Yes':\n",
    "        temp_input[2]=1\n",
    "    \n",
    "    if dependent=='Yes':\n",
    "        temp_input[3]=1\n",
    "        \n",
    "    temp_input[4]=tenure/72\n",
    "    \n",
    "    if phone_service==\"Yes\":\n",
    "        temp_input[5]=1\n",
    "        \n",
    "    if multiple_line==\"Yes\":\n",
    "        temp_input[6]\n",
    "        \n",
    "    if internet_service==\"DSL\":\n",
    "        temp_input[7]=1\n",
    "    elif internet_service==\"Fiber optic\":\n",
    "        temp_input[8]=1\n",
    "        \n",
    "    if online_security==\"Yes\":\n",
    "        temp_input[9]=1\n",
    "        \n",
    "    if online_backup==\"Yes\":\n",
    "        temp_input[10]=1\n",
    "        \n",
    "    if device_protection==\"Yes\":\n",
    "        temp_input[11]=1\n",
    "        \n",
    "    if tech_support==\"Yes\":\n",
    "        temp_input[12]=1\n",
    "        \n",
    "    if streamingTV==\"Yes\":\n",
    "        temp_input[13]=1\n",
    "        \n",
    "    if streamingMovies==\"Yes\":\n",
    "        temp_input[14]=1\n",
    "        \n",
    "    if contact=='One year':\n",
    "        temp_input[15]=1\n",
    "    elif contact=='Two year':\n",
    "        temp_input[15]=2\n",
    "    else:\n",
    "        temp_input[15]=1/12\n",
    "        \n",
    "    if paperless=='Yes':\n",
    "        temp_input[16]=1\n",
    "        \n",
    "    if paymentMethod==\"Bank transfer (automatic)\":\n",
    "        temp_input[17]=1\n",
    "    elif paymentMethod==\"Credit card (automatic)\":\n",
    "        temp_input[18]=1\n",
    "    elif paymentMethod==\"Electronic check\":\n",
    "        temp_input[19]=1\n",
    "    else:\n",
    "        temp_input[20]=1\n",
    "        \n",
    "    temp_input[21]=charge/118.75\n",
    "    \n",
    "    inputs_regress.append(temp_input)\n",
    "    \n",
    "    if churn=='Yes':\n",
    "        outputs_regress.append([1])\n",
    "    else:\n",
    "        outputs_regress.append([0])"
   ]
  },
  {
   "cell_type": "code",
   "execution_count": 359,
   "metadata": {},
   "outputs": [],
   "source": [
    "inputs_regress=[]\n",
    "outputs_regress=[]\n",
    "\n",
    "for index,row in df.iterrows():\n",
    "    \n",
    "    temp_input=[0]*33\n",
    "    \n",
    "    region=row['Region']\n",
    "    gender=row['gender']\n",
    "    senior=row['SeniorCitizen']\n",
    "    partner=row['Partner']\n",
    "    dependent=row['Dependents']\n",
    "    tenure=row['tenure']\n",
    "    tenure_bin=row['tenure_bin']\n",
    "    phone_service=row['PhoneService']\n",
    "    multiple_line=row['MultipleLines']\n",
    "    internet_service=row['InternetService']\n",
    "    online_security=row['OnlineSecurity']\n",
    "    online_backup=row['OnlineBackup']\n",
    "    device_protection=row['DeviceProtection']\n",
    "    tech_support=row['TechSupport']\n",
    "    streamingTV=row['StreamingTV']\n",
    "    streamingMovies=row['StreamingMovies']\n",
    "    contact=row['Contract']\n",
    "    paperless=row['PaperlessBilling']\n",
    "    paymentMethod=row['PaymentMethod']\n",
    "    charge=row[\"MonthlyCharges\"]\n",
    "    charge_bin=row['charge_bin']\n",
    "    churn=row[\"Churn\"]\n",
    "    \n",
    "    if region=='England':\n",
    "        temp_input[0]=1\n",
    "    elif region=='France':\n",
    "        temp_input[1]=1\n",
    "    else:\n",
    "        temp_input[2]=1\n",
    "    \n",
    "    if gender=='Male':\n",
    "        temp_input[3]=1\n",
    "    \n",
    "    temp_input[4]=senior\n",
    "    \n",
    "    if partner=='Yes':\n",
    "        temp_input[5]=1\n",
    "    \n",
    "    if dependent=='Yes':\n",
    "        temp_input[6]=1\n",
    "    \n",
    "    if tenure_bin==1:\n",
    "        temp_input[7]=1\n",
    "    elif tenure_bin==2:\n",
    "        temp_input[8]=1\n",
    "    elif tenure_bin==3:\n",
    "        temp_input[9]=1\n",
    "    elif tenure_bin==4:\n",
    "        temp_input[10]=1\n",
    "    elif tenure_bin==5:\n",
    "        temp_input[11]=1\n",
    "    elif tenure_bin==6:\n",
    "        temp_input[12]=1\n",
    "    elif tenure_bin==7:\n",
    "        temp_input[13]=1\n",
    "    \n",
    "    if phone_service==\"Yes\":\n",
    "        temp_input[14]=1\n",
    "        \n",
    "    if multiple_line==\"Yes\":\n",
    "        temp_input[15]\n",
    "        \n",
    "    if internet_service==\"DSL\":\n",
    "        temp_input[16]=1\n",
    "    elif internet_service==\"Fiber optic\":\n",
    "        temp_input[17]=1\n",
    "        \n",
    "    if online_security==\"Yes\":\n",
    "        temp_input[18]=1\n",
    "        \n",
    "    if online_backup==\"Yes\":\n",
    "        temp_input[19]=1\n",
    "        \n",
    "    if device_protection==\"Yes\":\n",
    "        temp_input[20]=1\n",
    "        \n",
    "    if tech_support==\"Yes\":\n",
    "        temp_input[21]=1\n",
    "        \n",
    "    if streamingTV==\"Yes\":\n",
    "        temp_input[22]=1\n",
    "        \n",
    "    if paperless=='Yes':\n",
    "        temp_input[23]=1\n",
    "        \n",
    "    if paymentMethod==\"Bank transfer (automatic)\":\n",
    "        temp_input[24]=1\n",
    "    elif paymentMethod==\"Credit card (automatic)\":\n",
    "        temp_input[25]=1\n",
    "    elif paymentMethod==\"Electronic check\":\n",
    "        temp_input[26]=1\n",
    "    else:\n",
    "        temp_input[27]=1\n",
    "\n",
    "    if charge_bin==1:\n",
    "        temp_input[28]=1\n",
    "    elif charge_bin==2:\n",
    "        temp_input[29]=1\n",
    "    elif charge_bin==3:\n",
    "        temp_input[30]=1\n",
    "    elif charge_bin==4:\n",
    "        temp_input[31]=1\n",
    "    elif charge_bin==5:\n",
    "        temp_input[32]=1\n",
    "        \n",
    "    inputs_regress.append(temp_input)\n",
    "    \n",
    "    if churn=='Yes':\n",
    "        outputs_regress.append([1])\n",
    "    else:\n",
    "        outputs_regress.append([0])"
   ]
  },
  {
   "cell_type": "code",
   "execution_count": 360,
   "metadata": {},
   "outputs": [],
   "source": [
    "inputs_regress_np=np.array(inputs_regress)\n",
    "outputs_regress_np=np.array(outputs_regress)"
   ]
  },
  {
   "cell_type": "code",
   "execution_count": 361,
   "metadata": {},
   "outputs": [],
   "source": [
    "inputs_regress_train,inputs_regress_test, outputs_regress_train,outputs_regress_test = train_test_split(inputs_regress_np, outputs_regress_np, test_size=0.2)"
   ]
  },
  {
   "cell_type": "code",
   "execution_count": 362,
   "metadata": {},
   "outputs": [
    {
     "name": "stderr",
     "output_type": "stream",
     "text": [
      "C:\\Users\\vjib\\Anaconda3\\lib\\site-packages\\sklearn\\linear_model\\logistic.py:433: FutureWarning:\n",
      "\n",
      "Default solver will be changed to 'lbfgs' in 0.22. Specify a solver to silence this warning.\n",
      "\n",
      "C:\\Users\\vjib\\Anaconda3\\lib\\site-packages\\sklearn\\utils\\validation.py:761: DataConversionWarning:\n",
      "\n",
      "A column-vector y was passed when a 1d array was expected. Please change the shape of y to (n_samples, ), for example using ravel().\n",
      "\n"
     ]
    },
    {
     "data": {
      "text/plain": [
       "0.7951721689740859"
      ]
     },
     "execution_count": 362,
     "metadata": {},
     "output_type": "execute_result"
    }
   ],
   "source": [
    "clf = LogisticRegression(random_state=0).fit(inputs_regress_train, outputs_regress_train)\n",
    "clf.score(inputs_regress_train, outputs_regress_train)"
   ]
  },
  {
   "cell_type": "code",
   "execution_count": 363,
   "metadata": {},
   "outputs": [
    {
     "data": {
      "text/plain": [
       "array([[3738,  388],\n",
       "       [ 766,  742]], dtype=int64)"
      ]
     },
     "execution_count": 363,
     "metadata": {},
     "output_type": "execute_result"
    }
   ],
   "source": [
    "predict=clf.predict(inputs_regress_train)\n",
    "\n",
    "confusion_matrix(outputs_regress_train, predict)"
   ]
  },
  {
   "cell_type": "code",
   "execution_count": 364,
   "metadata": {},
   "outputs": [
    {
     "name": "stdout",
     "output_type": "stream",
     "text": [
      "Model Precision: 0.7432830600921108\n",
      "Model Recall: 0.6990023156511531\n"
     ]
    }
   ],
   "source": [
    "precision=precision_score(outputs_regress_train,predict, average='macro')\n",
    "recall=recall_score(outputs_regress_train, predict, average='macro')\n",
    "\n",
    "print(f'Model Precision: {precision}')\n",
    "print(f'Model Recall: {recall}')"
   ]
  },
  {
   "cell_type": "code",
   "execution_count": 365,
   "metadata": {},
   "outputs": [
    {
     "data": {
      "text/plain": [
       "0.8395877183057303"
      ]
     },
     "execution_count": 365,
     "metadata": {},
     "output_type": "execute_result"
    }
   ],
   "source": [
    "prob = clf.predict_proba(inputs_regress_train)[:, 1]\n",
    "roc_auc_score(outputs_regress_train,prob)"
   ]
  },
  {
   "cell_type": "code",
   "execution_count": 366,
   "metadata": {},
   "outputs": [
    {
     "data": {
      "text/plain": [
       "0.8133427963094393"
      ]
     },
     "execution_count": 366,
     "metadata": {},
     "output_type": "execute_result"
    }
   ],
   "source": [
    "clf.score(inputs_regress_test, outputs_regress_test)"
   ]
  },
  {
   "cell_type": "code",
   "execution_count": 367,
   "metadata": {},
   "outputs": [
    {
     "data": {
      "text/plain": [
       "array([[958,  90],\n",
       "       [173, 188]], dtype=int64)"
      ]
     },
     "execution_count": 367,
     "metadata": {},
     "output_type": "execute_result"
    }
   ],
   "source": [
    "predict=clf.predict(inputs_regress_test)\n",
    "\n",
    "confusion_matrix(outputs_regress_test, predict)"
   ]
  },
  {
   "cell_type": "code",
   "execution_count": 368,
   "metadata": {},
   "outputs": [
    {
     "name": "stdout",
     "output_type": "stream",
     "text": [
      "Model Precision: 0.761648506128784\n",
      "Model Recall: 0.7174488803366391\n"
     ]
    }
   ],
   "source": [
    "precision=precision_score(outputs_regress_test,predict, average='macro')\n",
    "recall=recall_score(outputs_regress_test, predict, average='macro')\n",
    "\n",
    "print(f'Model Precision: {precision}')\n",
    "print(f'Model Recall: {recall}')"
   ]
  },
  {
   "cell_type": "code",
   "execution_count": 369,
   "metadata": {},
   "outputs": [
    {
     "data": {
      "text/plain": [
       "0.8314412361760165"
      ]
     },
     "execution_count": 369,
     "metadata": {},
     "output_type": "execute_result"
    }
   ],
   "source": [
    "prob = clf.predict_proba(inputs_regress_test)[:, 1]\n",
    "roc_auc_score(outputs_regress_test,prob)"
   ]
  },
  {
   "cell_type": "code",
   "execution_count": 370,
   "metadata": {},
   "outputs": [
    {
     "name": "stderr",
     "output_type": "stream",
     "text": [
      "C:\\Users\\vjib\\Anaconda3\\lib\\site-packages\\sklearn\\utils\\validation.py:761: DataConversionWarning:\n",
      "\n",
      "A column-vector y was passed when a 1d array was expected. Please change the shape of y to (n_samples, ), for example using ravel().\n",
      "\n",
      "C:\\Users\\vjib\\Anaconda3\\lib\\site-packages\\sklearn\\svm\\base.py:196: FutureWarning:\n",
      "\n",
      "The default value of gamma will change from 'auto' to 'scale' in version 0.22 to account better for unscaled features. Set gamma explicitly to 'auto' or 'scale' to avoid this warning.\n",
      "\n"
     ]
    },
    {
     "data": {
      "text/plain": [
       "0.7921547745828896"
      ]
     },
     "execution_count": 370,
     "metadata": {},
     "output_type": "execute_result"
    }
   ],
   "source": [
    "clf = svm.SVC(probability=True).fit(inputs_regress_train, outputs_regress_train)\n",
    "clf.score(inputs_regress_train, outputs_regress_train)"
   ]
  },
  {
   "cell_type": "code",
   "execution_count": 371,
   "metadata": {},
   "outputs": [
    {
     "data": {
      "text/plain": [
       "array([[3756,  370],\n",
       "       [ 801,  707]], dtype=int64)"
      ]
     },
     "execution_count": 371,
     "metadata": {},
     "output_type": "execute_result"
    }
   ],
   "source": [
    "predict=clf.predict(inputs_regress_train)\n",
    "\n",
    "confusion_matrix(outputs_regress_train, predict)"
   ]
  },
  {
   "cell_type": "code",
   "execution_count": 372,
   "metadata": {},
   "outputs": [
    {
     "name": "stdout",
     "output_type": "stream",
     "text": [
      "Model Precision: 0.740339787635784\n",
      "Model Recall: 0.6895788304997358\n"
     ]
    }
   ],
   "source": [
    "precision=precision_score(outputs_regress_train,predict, average='macro')\n",
    "recall=recall_score(outputs_regress_train, predict, average='macro')\n",
    "\n",
    "print(f'Model Precision: {precision}')\n",
    "print(f'Model Recall: {recall}')"
   ]
  },
  {
   "cell_type": "code",
   "execution_count": 373,
   "metadata": {},
   "outputs": [
    {
     "data": {
      "text/plain": [
       "0.8381483116061568"
      ]
     },
     "execution_count": 373,
     "metadata": {},
     "output_type": "execute_result"
    }
   ],
   "source": [
    "prob = clf.predict_proba(inputs_regress_train)[:, 1]\n",
    "roc_auc_score(outputs_regress_train,prob)"
   ]
  },
  {
   "cell_type": "code",
   "execution_count": 374,
   "metadata": {},
   "outputs": [
    {
     "data": {
      "text/plain": [
       "0.7906316536550745"
      ]
     },
     "execution_count": 374,
     "metadata": {},
     "output_type": "execute_result"
    }
   ],
   "source": [
    "clf.score(inputs_regress_test, outputs_regress_test)"
   ]
  },
  {
   "cell_type": "code",
   "execution_count": 375,
   "metadata": {},
   "outputs": [
    {
     "data": {
      "text/plain": [
       "array([[952,  96],\n",
       "       [199, 162]], dtype=int64)"
      ]
     },
     "execution_count": 375,
     "metadata": {},
     "output_type": "execute_result"
    }
   ],
   "source": [
    "predict=clf.predict(inputs_regress_test)\n",
    "\n",
    "confusion_matrix(outputs_regress_test, predict)"
   ]
  },
  {
   "cell_type": "code",
   "execution_count": 376,
   "metadata": {},
   "outputs": [
    {
     "name": "stdout",
     "output_type": "stream",
     "text": [
      "Model Precision: 0.7275069201705291\n",
      "Model Recall: 0.6785752045843818\n"
     ]
    }
   ],
   "source": [
    "precision=precision_score(outputs_regress_test,predict, average='macro')\n",
    "recall=recall_score(outputs_regress_test, predict, average='macro')\n",
    "\n",
    "print(f'Model Precision: {precision}')\n",
    "print(f'Model Recall: {recall}')"
   ]
  },
  {
   "cell_type": "code",
   "execution_count": 377,
   "metadata": {},
   "outputs": [
    {
     "data": {
      "text/plain": [
       "0.8141612568987757"
      ]
     },
     "execution_count": 377,
     "metadata": {},
     "output_type": "execute_result"
    }
   ],
   "source": [
    "prob = clf.predict_proba(inputs_regress_test)[:, 1]\n",
    "roc_auc_score(outputs_regress_test,prob)"
   ]
  },
  {
   "cell_type": "code",
   "execution_count": 378,
   "metadata": {},
   "outputs": [],
   "source": [
    "inputs_tree=[]\n",
    "outputs_tree=[]\n",
    "\n",
    "for index,row in df.iterrows():\n",
    "    \n",
    "    temp_input=[0]*19\n",
    "    \n",
    "    region=row['Region']\n",
    "    gender=row['gender']\n",
    "    senior=row['SeniorCitizen']\n",
    "    partner=row['Partner']\n",
    "    dependent=row['Dependents']\n",
    "    tenure=row['tenure']\n",
    "    phone_service=row['PhoneService']\n",
    "    multiple_line=row['MultipleLines']\n",
    "    internet_service=row['InternetService']\n",
    "    online_security=row['OnlineSecurity']\n",
    "    online_backup=row['OnlineBackup']\n",
    "    device_protection=row['DeviceProtection']\n",
    "    tech_support=row['TechSupport']\n",
    "    streamingTV=row['StreamingTV']\n",
    "    streamingMovies=row['StreamingMovies']\n",
    "    contact=row['Contract']\n",
    "    paperless=row['PaperlessBilling']\n",
    "    paymentMethod=row['PaymentMethod']\n",
    "    charge=row[\"MonthlyCharges\"]\n",
    "    churn=row[\"Churn\"]\n",
    "    \n",
    "    if gender=='England':\n",
    "        temp_input[0]=1\n",
    "    if gender=='France':\n",
    "        temp_input[0]=1\n",
    "    else:\n",
    "        temp_input[0]=2\n",
    "    \n",
    "    if gender=='Male':\n",
    "        temp_input[1]=1\n",
    "    \n",
    "    temp_input[2]=senior\n",
    "    \n",
    "    if partner=='Yes':\n",
    "        temp_input[3]=1\n",
    "    \n",
    "    if dependent=='Yes':\n",
    "        temp_input[4]=1\n",
    "        \n",
    "    temp_input[5]=tenure\n",
    "    \n",
    "    if phone_service==\"Yes\":\n",
    "        temp_input[6]=1\n",
    "        \n",
    "    if multiple_line==\"Yes\":\n",
    "        temp_input[7]\n",
    "        \n",
    "    if internet_service==\"DSL\":\n",
    "        temp_input[8]=1\n",
    "    elif internet_service==\"Fiber optic\":\n",
    "        temp_input[8]=2\n",
    "        \n",
    "    if online_security==\"Yes\":\n",
    "        temp_input[9]=1\n",
    "        \n",
    "    if online_backup==\"Yes\":\n",
    "        temp_input[10]=1\n",
    "        \n",
    "    if device_protection==\"Yes\":\n",
    "        temp_input[11]=1\n",
    "        \n",
    "    if tech_support==\"Yes\":\n",
    "        temp_input[12]=1\n",
    "        \n",
    "    if streamingTV==\"Yes\":\n",
    "        temp_input[13]=1\n",
    "        \n",
    "    if streamingMovies==\"Yes\":\n",
    "        temp_input[14]=1\n",
    "        \n",
    "    if contact=='One year':\n",
    "        temp_input[15]=1\n",
    "    elif contact=='Two year':\n",
    "        temp_input[15]=2\n",
    "    else:\n",
    "        temp_input[15]=1/12\n",
    "        \n",
    "    if paperless=='Yes':\n",
    "        temp_input[16]=1\n",
    "        \n",
    "    if paymentMethod==\"Bank transfer (automatic)\":\n",
    "        temp_input[17]=1\n",
    "    elif paymentMethod==\"Credit card (automatic)\":\n",
    "        temp_input[17]=2\n",
    "    elif paymentMethod==\"Electronic check\":\n",
    "        temp_input[17]=3\n",
    "    else:\n",
    "        temp_input[17]=0\n",
    "        \n",
    "    temp_input[18]=charge\n",
    "    \n",
    "    inputs_tree.append(temp_input)\n",
    "    \n",
    "    if churn=='Yes':\n",
    "        outputs_tree.append([1])\n",
    "    else:\n",
    "        outputs_tree.append([0])"
   ]
  },
  {
   "cell_type": "code",
   "execution_count": 379,
   "metadata": {},
   "outputs": [],
   "source": [
    "inputs_tree_np=np.array(inputs_tree)\n",
    "outputs_tree_np=np.array(outputs_tree)"
   ]
  },
  {
   "cell_type": "code",
   "execution_count": 405,
   "metadata": {},
   "outputs": [],
   "source": [
    "inputs_tree_train,inputs_tree_test, outputs_tree_train,outputs_tree_test = train_test_split(inputs_tree_np, outputs_tree_np, test_size=0.2)"
   ]
  },
  {
   "cell_type": "code",
   "execution_count": 406,
   "metadata": {},
   "outputs": [
    {
     "name": "stderr",
     "output_type": "stream",
     "text": [
      "C:\\Users\\vjib\\Anaconda3\\lib\\site-packages\\ipykernel_launcher.py:2: DataConversionWarning:\n",
      "\n",
      "A column-vector y was passed when a 1d array was expected. Please change the shape of y to (n_samples,), for example using ravel().\n",
      "\n"
     ]
    },
    {
     "data": {
      "text/plain": [
       "0.997515086971956"
      ]
     },
     "execution_count": 406,
     "metadata": {},
     "output_type": "execute_result"
    }
   ],
   "source": [
    "model = RandomForestClassifier(n_estimators=1000)\n",
    "model.fit(inputs_tree_train,outputs_tree_train)\n",
    "model.score(inputs_tree_train,outputs_tree_train)"
   ]
  },
  {
   "cell_type": "code",
   "execution_count": 407,
   "metadata": {},
   "outputs": [
    {
     "data": {
      "text/plain": [
       "array([[4121,    7],\n",
       "       [   7, 1499]], dtype=int64)"
      ]
     },
     "execution_count": 407,
     "metadata": {},
     "output_type": "execute_result"
    }
   ],
   "source": [
    "predict=model.predict(inputs_tree_train)\n",
    "\n",
    "confusion_matrix(outputs_tree_train, predict)"
   ]
  },
  {
   "cell_type": "code",
   "execution_count": 408,
   "metadata": {},
   "outputs": [
    {
     "name": "stdout",
     "output_type": "stream",
     "text": [
      "Model Precision: 0.9968280945983508\n",
      "Model Recall: 0.9968280945983508\n"
     ]
    }
   ],
   "source": [
    "precision=precision_score(outputs_tree_train,predict, average='macro')\n",
    "recall=recall_score(outputs_tree_train, predict, average='macro')\n",
    "\n",
    "print(f'Model Precision: {precision}')\n",
    "print(f'Model Recall: {recall}')"
   ]
  },
  {
   "cell_type": "code",
   "execution_count": 409,
   "metadata": {},
   "outputs": [
    {
     "data": {
      "text/plain": [
       "0.999908473341775"
      ]
     },
     "execution_count": 409,
     "metadata": {},
     "output_type": "execute_result"
    }
   ],
   "source": [
    "prob = model.predict_proba(inputs_tree_train)[:, 1]\n",
    "roc_auc_score(outputs_tree_train,prob)"
   ]
  },
  {
   "cell_type": "code",
   "execution_count": 410,
   "metadata": {},
   "outputs": [
    {
     "data": {
      "text/plain": [
       "0.7885024840312278"
      ]
     },
     "execution_count": 410,
     "metadata": {},
     "output_type": "execute_result"
    }
   ],
   "source": [
    "model.score(inputs_tree_test,outputs_tree_test)"
   ]
  },
  {
   "cell_type": "code",
   "execution_count": 411,
   "metadata": {},
   "outputs": [
    {
     "data": {
      "text/plain": [
       "array([[937, 109],\n",
       "       [189, 174]], dtype=int64)"
      ]
     },
     "execution_count": 411,
     "metadata": {},
     "output_type": "execute_result"
    }
   ],
   "source": [
    "predict=model.predict(inputs_tree_test)\n",
    "\n",
    "confusion_matrix(outputs_tree_test, predict)"
   ]
  },
  {
   "cell_type": "code",
   "execution_count": 412,
   "metadata": {},
   "outputs": [
    {
     "name": "stdout",
     "output_type": "stream",
     "text": [
      "Model Precision: 0.7234950950548864\n",
      "Model Recall: 0.6875661710095918\n"
     ]
    }
   ],
   "source": [
    "precision=precision_score(outputs_tree_test,predict, average='macro')\n",
    "recall=recall_score(outputs_tree_test, predict, average='macro')\n",
    "\n",
    "print(f'Model Precision: {precision}')\n",
    "print(f'Model Recall: {recall}')"
   ]
  },
  {
   "cell_type": "code",
   "execution_count": 413,
   "metadata": {},
   "outputs": [
    {
     "data": {
      "text/plain": [
       "0.8191773462067222"
      ]
     },
     "execution_count": 413,
     "metadata": {},
     "output_type": "execute_result"
    }
   ],
   "source": [
    "prob = model.predict_proba(inputs_tree_test)[:, 1]\n",
    "roc_auc_score(outputs_tree_test,prob)"
   ]
  },
  {
   "cell_type": "code",
   "execution_count": 414,
   "metadata": {},
   "outputs": [
    {
     "name": "stderr",
     "output_type": "stream",
     "text": [
      "C:\\Users\\vjib\\Anaconda3\\lib\\site-packages\\sklearn\\utils\\validation.py:761: DataConversionWarning:\n",
      "\n",
      "A column-vector y was passed when a 1d array was expected. Please change the shape of y to (n_samples, ), for example using ravel().\n",
      "\n"
     ]
    },
    {
     "data": {
      "text/plain": [
       "0.9034433794817182"
      ]
     },
     "execution_count": 414,
     "metadata": {},
     "output_type": "execute_result"
    }
   ],
   "source": [
    "model = GradientBoostingClassifier(n_estimators=1000)\n",
    "model.fit(inputs_tree_train,outputs_tree_train)\n",
    "model.score(inputs_tree_train,outputs_tree_train)"
   ]
  },
  {
   "cell_type": "code",
   "execution_count": 415,
   "metadata": {},
   "outputs": [
    {
     "data": {
      "text/plain": [
       "array([[3950,  178],\n",
       "       [ 366, 1140]], dtype=int64)"
      ]
     },
     "execution_count": 415,
     "metadata": {},
     "output_type": "execute_result"
    }
   ],
   "source": [
    "predict=model.predict(inputs_tree_train)\n",
    "\n",
    "confusion_matrix(outputs_tree_train, predict)"
   ]
  },
  {
   "cell_type": "code",
   "execution_count": 416,
   "metadata": {},
   "outputs": [
    {
     "name": "stdout",
     "output_type": "stream",
     "text": [
      "Model Precision: 0.8900730738994264\n",
      "Model Recall: 0.8569259782575126\n"
     ]
    }
   ],
   "source": [
    "precision=precision_score(outputs_tree_train,predict, average='macro')\n",
    "recall=recall_score(outputs_tree_train, predict, average='macro')\n",
    "\n",
    "print(f'Model Precision: {precision}')\n",
    "print(f'Model Recall: {recall}')"
   ]
  },
  {
   "cell_type": "code",
   "execution_count": 417,
   "metadata": {},
   "outputs": [
    {
     "data": {
      "text/plain": [
       "0.9566919659861844"
      ]
     },
     "execution_count": 417,
     "metadata": {},
     "output_type": "execute_result"
    }
   ],
   "source": [
    "prob = model.predict_proba(inputs_tree_train)[:, 1]\n",
    "roc_auc_score(outputs_tree_train,prob)"
   ]
  },
  {
   "cell_type": "code",
   "execution_count": 418,
   "metadata": {},
   "outputs": [
    {
     "data": {
      "text/plain": [
       "0.7892122072391767"
      ]
     },
     "execution_count": 418,
     "metadata": {},
     "output_type": "execute_result"
    }
   ],
   "source": [
    "model.score(inputs_tree_test,outputs_tree_test)"
   ]
  },
  {
   "cell_type": "code",
   "execution_count": 419,
   "metadata": {},
   "outputs": [
    {
     "data": {
      "text/plain": [
       "array([[934, 112],\n",
       "       [185, 178]], dtype=int64)"
      ]
     },
     "execution_count": 419,
     "metadata": {},
     "output_type": "execute_result"
    }
   ],
   "source": [
    "predict=model.predict(inputs_tree_test)\n",
    "\n",
    "confusion_matrix(outputs_tree_test, predict)"
   ]
  },
  {
   "cell_type": "code",
   "execution_count": 420,
   "metadata": {},
   "outputs": [
    {
     "name": "stdout",
     "output_type": "stream",
     "text": [
      "Model Precision: 0.7242334596776678\n",
      "Model Recall: 0.691641778466044\n"
     ]
    }
   ],
   "source": [
    "precision=precision_score(outputs_tree_test,predict, average='macro')\n",
    "recall=recall_score(outputs_tree_test, predict, average='macro')\n",
    "\n",
    "print(f'Model Precision: {precision}')\n",
    "print(f'Model Recall: {recall}')"
   ]
  },
  {
   "cell_type": "code",
   "execution_count": 421,
   "metadata": {},
   "outputs": [
    {
     "data": {
      "text/plain": [
       "0.8187572755189652"
      ]
     },
     "execution_count": 421,
     "metadata": {},
     "output_type": "execute_result"
    }
   ],
   "source": [
    "prob = model.predict_proba(inputs_tree_test)[:, 1]\n",
    "roc_auc_score(outputs_tree_test,prob)"
   ]
  },
  {
   "cell_type": "code",
   "execution_count": 422,
   "metadata": {},
   "outputs": [
    {
     "name": "stderr",
     "output_type": "stream",
     "text": [
      "C:\\Users\\vjib\\Anaconda3\\lib\\site-packages\\sklearn\\preprocessing\\label.py:219: DataConversionWarning:\n",
      "\n",
      "A column-vector y was passed when a 1d array was expected. Please change the shape of y to (n_samples, ), for example using ravel().\n",
      "\n",
      "C:\\Users\\vjib\\Anaconda3\\lib\\site-packages\\sklearn\\preprocessing\\label.py:252: DataConversionWarning:\n",
      "\n",
      "A column-vector y was passed when a 1d array was expected. Please change the shape of y to (n_samples, ), for example using ravel().\n",
      "\n"
     ]
    },
    {
     "data": {
      "text/plain": [
       "0.8743343982960596"
      ]
     },
     "execution_count": 422,
     "metadata": {},
     "output_type": "execute_result"
    }
   ],
   "source": [
    "model = XGBClassifier(n_estimators=1000)\n",
    "model.fit(inputs_tree_train,outputs_tree_train)\n",
    "model.score(inputs_tree_train,outputs_tree_train)"
   ]
  },
  {
   "cell_type": "code",
   "execution_count": 423,
   "metadata": {},
   "outputs": [
    {
     "data": {
      "text/plain": [
       "array([[3866,  262],\n",
       "       [ 446, 1060]], dtype=int64)"
      ]
     },
     "execution_count": 423,
     "metadata": {},
     "output_type": "execute_result"
    }
   ],
   "source": [
    "predict=model.predict(inputs_tree_train)\n",
    "\n",
    "confusion_matrix(outputs_tree_train, predict)"
   ]
  },
  {
   "cell_type": "code",
   "execution_count": 424,
   "metadata": {},
   "outputs": [
    {
     "name": "stdout",
     "output_type": "stream",
     "text": [
      "Model Precision: 0.8491915745805956\n",
      "Model Recall: 0.820191134686062\n"
     ]
    }
   ],
   "source": [
    "precision=precision_score(outputs_tree_train,predict, average='macro')\n",
    "recall=recall_score(outputs_tree_train, predict, average='macro')\n",
    "\n",
    "print(f'Model Precision: {precision}')\n",
    "print(f'Model Recall: {recall}')"
   ]
  },
  {
   "cell_type": "code",
   "execution_count": 425,
   "metadata": {},
   "outputs": [
    {
     "data": {
      "text/plain": [
       "0.9381598283867115"
      ]
     },
     "execution_count": 425,
     "metadata": {},
     "output_type": "execute_result"
    }
   ],
   "source": [
    "prob = model.predict_proba(inputs_tree_train)[:, 1]\n",
    "roc_auc_score(outputs_tree_train,prob)"
   ]
  },
  {
   "cell_type": "code",
   "execution_count": 426,
   "metadata": {},
   "outputs": [
    {
     "data": {
      "text/plain": [
       "0.7934705464868701"
      ]
     },
     "execution_count": 426,
     "metadata": {},
     "output_type": "execute_result"
    }
   ],
   "source": [
    "model.score(inputs_tree_test,outputs_tree_test)"
   ]
  },
  {
   "cell_type": "code",
   "execution_count": 427,
   "metadata": {},
   "outputs": [
    {
     "data": {
      "text/plain": [
       "array([[934, 112],\n",
       "       [179, 184]], dtype=int64)"
      ]
     },
     "execution_count": 427,
     "metadata": {},
     "output_type": "execute_result"
    }
   ],
   "source": [
    "predict=model.predict(inputs_tree_test)\n",
    "\n",
    "confusion_matrix(outputs_tree_test, predict)"
   ]
  },
  {
   "cell_type": "code",
   "execution_count": 428,
   "metadata": {},
   "outputs": [
    {
     "name": "stdout",
     "output_type": "stream",
     "text": [
      "Model Precision: 0.7303975134163814\n",
      "Model Recall: 0.6999062412759613\n"
     ]
    }
   ],
   "source": [
    "precision=precision_score(outputs_tree_test,predict, average='macro')\n",
    "recall=recall_score(outputs_tree_test, predict, average='macro')\n",
    "\n",
    "print(f'Model Precision: {precision}')\n",
    "print(f'Model Recall: {recall}')"
   ]
  },
  {
   "cell_type": "code",
   "execution_count": 429,
   "metadata": {},
   "outputs": [
    {
     "data": {
      "text/plain": [
       "0.8232661220232922"
      ]
     },
     "execution_count": 429,
     "metadata": {},
     "output_type": "execute_result"
    }
   ],
   "source": [
    "prob = model.predict_proba(inputs_tree_test)[:, 1]\n",
    "roc_auc_score(outputs_tree_test,prob)"
   ]
  },
  {
   "cell_type": "code",
   "execution_count": null,
   "metadata": {},
   "outputs": [],
   "source": []
  }
 ],
 "metadata": {
  "kernelspec": {
   "display_name": "Python 3",
   "language": "python",
   "name": "python3"
  },
  "language_info": {
   "codemirror_mode": {
    "name": "ipython",
    "version": 3
   },
   "file_extension": ".py",
   "mimetype": "text/x-python",
   "name": "python",
   "nbconvert_exporter": "python",
   "pygments_lexer": "ipython3",
   "version": "3.7.1"
  }
 },
 "nbformat": 4,
 "nbformat_minor": 2
}
