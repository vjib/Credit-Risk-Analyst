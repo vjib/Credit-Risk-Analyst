{
 "cells": [
  {
   "cell_type": "code",
   "execution_count": 1,
   "metadata": {},
   "outputs": [],
   "source": [
    "import pandas as pd\n",
    "import datetime\n",
    "import numpy as np\n",
    "import math\n",
    "\n",
    "import plotly.offline as py \n",
    "import plotly.graph_objs as go \n",
    "\n",
    "import matplotlib.pyplot as plt\n",
    "import matplotlib.ticker as mtick\n",
    "from numpy.polynomial.polynomial import polyfit\n",
    "import random as rd\n",
    "import time\n",
    "\n",
    "import seaborn as sns\n",
    "\n",
    "from sklearn import preprocessing\n",
    "\n",
    "from sklearn.metrics import precision_score\n",
    "from sklearn.metrics import recall_score\n",
    "from sklearn.metrics import f1_score"
   ]
  },
  {
   "cell_type": "code",
   "execution_count": 2,
   "metadata": {},
   "outputs": [],
   "source": [
    "file_url=\"Telco.csv\"\n",
    "\n",
    "df=pd.read_csv(file_url)"
   ]
  },
  {
   "cell_type": "code",
   "execution_count": 7,
   "metadata": {},
   "outputs": [
    {
     "data": {
      "text/html": [
       "<div>\n",
       "<style scoped>\n",
       "    .dataframe tbody tr th:only-of-type {\n",
       "        vertical-align: middle;\n",
       "    }\n",
       "\n",
       "    .dataframe tbody tr th {\n",
       "        vertical-align: top;\n",
       "    }\n",
       "\n",
       "    .dataframe thead th {\n",
       "        text-align: right;\n",
       "    }\n",
       "</style>\n",
       "<table border=\"1\" class=\"dataframe\">\n",
       "  <thead>\n",
       "    <tr style=\"text-align: right;\">\n",
       "      <th></th>\n",
       "      <th>customerID</th>\n",
       "      <th>Region</th>\n",
       "      <th>gender</th>\n",
       "      <th>SeniorCitizen</th>\n",
       "      <th>Partner</th>\n",
       "      <th>Dependents</th>\n",
       "      <th>tenure</th>\n",
       "      <th>PhoneService</th>\n",
       "      <th>MultipleLines</th>\n",
       "      <th>InternetService</th>\n",
       "      <th>...</th>\n",
       "      <th>DeviceProtection</th>\n",
       "      <th>TechSupport</th>\n",
       "      <th>StreamingTV</th>\n",
       "      <th>StreamingMovies</th>\n",
       "      <th>Contract</th>\n",
       "      <th>PaperlessBilling</th>\n",
       "      <th>PaymentMethod</th>\n",
       "      <th>MonthlyCharges</th>\n",
       "      <th>TotalCharges</th>\n",
       "      <th>Churn</th>\n",
       "    </tr>\n",
       "  </thead>\n",
       "  <tbody>\n",
       "    <tr>\n",
       "      <th>733</th>\n",
       "      <td>7564-GHCVB</td>\n",
       "      <td>Germany</td>\n",
       "      <td>Female</td>\n",
       "      <td>0</td>\n",
       "      <td>Yes</td>\n",
       "      <td>Yes</td>\n",
       "      <td>72</td>\n",
       "      <td>Yes</td>\n",
       "      <td>Yes</td>\n",
       "      <td>Fiber optic</td>\n",
       "      <td>...</td>\n",
       "      <td>No</td>\n",
       "      <td>No</td>\n",
       "      <td>No</td>\n",
       "      <td>No</td>\n",
       "      <td>Two year</td>\n",
       "      <td>No</td>\n",
       "      <td>Bank transfer (automatic)</td>\n",
       "      <td>79.05</td>\n",
       "      <td>5730.7</td>\n",
       "      <td>No</td>\n",
       "    </tr>\n",
       "    <tr>\n",
       "      <th>1298</th>\n",
       "      <td>5989-OMNJE</td>\n",
       "      <td>Germany</td>\n",
       "      <td>Female</td>\n",
       "      <td>0</td>\n",
       "      <td>Yes</td>\n",
       "      <td>Yes</td>\n",
       "      <td>24</td>\n",
       "      <td>No</td>\n",
       "      <td>No phone service</td>\n",
       "      <td>DSL</td>\n",
       "      <td>...</td>\n",
       "      <td>Yes</td>\n",
       "      <td>No</td>\n",
       "      <td>Yes</td>\n",
       "      <td>Yes</td>\n",
       "      <td>One year</td>\n",
       "      <td>No</td>\n",
       "      <td>Electronic check</td>\n",
       "      <td>57.60</td>\n",
       "      <td>1367.75</td>\n",
       "      <td>No</td>\n",
       "    </tr>\n",
       "    <tr>\n",
       "      <th>3704</th>\n",
       "      <td>4227-OJHAL</td>\n",
       "      <td>Germany</td>\n",
       "      <td>Female</td>\n",
       "      <td>0</td>\n",
       "      <td>Yes</td>\n",
       "      <td>Yes</td>\n",
       "      <td>68</td>\n",
       "      <td>Yes</td>\n",
       "      <td>Yes</td>\n",
       "      <td>DSL</td>\n",
       "      <td>...</td>\n",
       "      <td>Yes</td>\n",
       "      <td>No</td>\n",
       "      <td>Yes</td>\n",
       "      <td>No</td>\n",
       "      <td>One year</td>\n",
       "      <td>Yes</td>\n",
       "      <td>Credit card (automatic)</td>\n",
       "      <td>73.00</td>\n",
       "      <td>5163</td>\n",
       "      <td>No</td>\n",
       "    </tr>\n",
       "    <tr>\n",
       "      <th>1466</th>\n",
       "      <td>8205-MQUGY</td>\n",
       "      <td>Germany</td>\n",
       "      <td>Male</td>\n",
       "      <td>0</td>\n",
       "      <td>Yes</td>\n",
       "      <td>Yes</td>\n",
       "      <td>12</td>\n",
       "      <td>Yes</td>\n",
       "      <td>No</td>\n",
       "      <td>DSL</td>\n",
       "      <td>...</td>\n",
       "      <td>No</td>\n",
       "      <td>No</td>\n",
       "      <td>No</td>\n",
       "      <td>No</td>\n",
       "      <td>Month-to-month</td>\n",
       "      <td>Yes</td>\n",
       "      <td>Electronic check</td>\n",
       "      <td>49.20</td>\n",
       "      <td>571.15</td>\n",
       "      <td>No</td>\n",
       "    </tr>\n",
       "    <tr>\n",
       "      <th>4686</th>\n",
       "      <td>8024-XNAFQ</td>\n",
       "      <td>Germany</td>\n",
       "      <td>Female</td>\n",
       "      <td>1</td>\n",
       "      <td>No</td>\n",
       "      <td>No</td>\n",
       "      <td>72</td>\n",
       "      <td>Yes</td>\n",
       "      <td>Yes</td>\n",
       "      <td>Fiber optic</td>\n",
       "      <td>...</td>\n",
       "      <td>Yes</td>\n",
       "      <td>Yes</td>\n",
       "      <td>No</td>\n",
       "      <td>Yes</td>\n",
       "      <td>Two year</td>\n",
       "      <td>Yes</td>\n",
       "      <td>Bank transfer (automatic)</td>\n",
       "      <td>107.40</td>\n",
       "      <td>7748.75</td>\n",
       "      <td>No</td>\n",
       "    </tr>\n",
       "    <tr>\n",
       "      <th>2981</th>\n",
       "      <td>0397-ZXWQF</td>\n",
       "      <td>Germany</td>\n",
       "      <td>Male</td>\n",
       "      <td>0</td>\n",
       "      <td>No</td>\n",
       "      <td>No</td>\n",
       "      <td>67</td>\n",
       "      <td>Yes</td>\n",
       "      <td>No</td>\n",
       "      <td>No</td>\n",
       "      <td>...</td>\n",
       "      <td>No internet service</td>\n",
       "      <td>No internet service</td>\n",
       "      <td>No internet service</td>\n",
       "      <td>No internet service</td>\n",
       "      <td>Two year</td>\n",
       "      <td>No</td>\n",
       "      <td>Bank transfer (automatic)</td>\n",
       "      <td>20.50</td>\n",
       "      <td>1430.95</td>\n",
       "      <td>No</td>\n",
       "    </tr>\n",
       "    <tr>\n",
       "      <th>6340</th>\n",
       "      <td>3323-CPBWR</td>\n",
       "      <td>Germany</td>\n",
       "      <td>Male</td>\n",
       "      <td>0</td>\n",
       "      <td>No</td>\n",
       "      <td>No</td>\n",
       "      <td>23</td>\n",
       "      <td>Yes</td>\n",
       "      <td>Yes</td>\n",
       "      <td>Fiber optic</td>\n",
       "      <td>...</td>\n",
       "      <td>Yes</td>\n",
       "      <td>Yes</td>\n",
       "      <td>Yes</td>\n",
       "      <td>No</td>\n",
       "      <td>Month-to-month</td>\n",
       "      <td>Yes</td>\n",
       "      <td>Credit card (automatic)</td>\n",
       "      <td>96.90</td>\n",
       "      <td>2085.45</td>\n",
       "      <td>No</td>\n",
       "    </tr>\n",
       "    <tr>\n",
       "      <th>5204</th>\n",
       "      <td>4282-ACRXS</td>\n",
       "      <td>Germany</td>\n",
       "      <td>Male</td>\n",
       "      <td>1</td>\n",
       "      <td>Yes</td>\n",
       "      <td>No</td>\n",
       "      <td>38</td>\n",
       "      <td>No</td>\n",
       "      <td>No phone service</td>\n",
       "      <td>DSL</td>\n",
       "      <td>...</td>\n",
       "      <td>No</td>\n",
       "      <td>No</td>\n",
       "      <td>No</td>\n",
       "      <td>No</td>\n",
       "      <td>Month-to-month</td>\n",
       "      <td>Yes</td>\n",
       "      <td>Electronic check</td>\n",
       "      <td>24.85</td>\n",
       "      <td>955.75</td>\n",
       "      <td>No</td>\n",
       "    </tr>\n",
       "    <tr>\n",
       "      <th>2446</th>\n",
       "      <td>9492-TOKRI</td>\n",
       "      <td>Germany</td>\n",
       "      <td>Female</td>\n",
       "      <td>0</td>\n",
       "      <td>No</td>\n",
       "      <td>No</td>\n",
       "      <td>18</td>\n",
       "      <td>Yes</td>\n",
       "      <td>Yes</td>\n",
       "      <td>Fiber optic</td>\n",
       "      <td>...</td>\n",
       "      <td>No</td>\n",
       "      <td>No</td>\n",
       "      <td>Yes</td>\n",
       "      <td>No</td>\n",
       "      <td>Month-to-month</td>\n",
       "      <td>Yes</td>\n",
       "      <td>Credit card (automatic)</td>\n",
       "      <td>90.00</td>\n",
       "      <td>1527.35</td>\n",
       "      <td>Yes</td>\n",
       "    </tr>\n",
       "    <tr>\n",
       "      <th>2820</th>\n",
       "      <td>3251-YMVWZ</td>\n",
       "      <td>Germany</td>\n",
       "      <td>Male</td>\n",
       "      <td>0</td>\n",
       "      <td>No</td>\n",
       "      <td>No</td>\n",
       "      <td>53</td>\n",
       "      <td>Yes</td>\n",
       "      <td>Yes</td>\n",
       "      <td>No</td>\n",
       "      <td>...</td>\n",
       "      <td>No internet service</td>\n",
       "      <td>No internet service</td>\n",
       "      <td>No internet service</td>\n",
       "      <td>No internet service</td>\n",
       "      <td>One year</td>\n",
       "      <td>No</td>\n",
       "      <td>Bank transfer (automatic)</td>\n",
       "      <td>24.05</td>\n",
       "      <td>1301.9</td>\n",
       "      <td>No</td>\n",
       "    </tr>\n",
       "  </tbody>\n",
       "</table>\n",
       "<p>10 rows × 22 columns</p>\n",
       "</div>"
      ],
      "text/plain": [
       "      customerID   Region  gender  SeniorCitizen Partner Dependents  tenure  \\\n",
       "733   7564-GHCVB  Germany  Female              0     Yes        Yes      72   \n",
       "1298  5989-OMNJE  Germany  Female              0     Yes        Yes      24   \n",
       "3704  4227-OJHAL  Germany  Female              0     Yes        Yes      68   \n",
       "1466  8205-MQUGY  Germany    Male              0     Yes        Yes      12   \n",
       "4686  8024-XNAFQ  Germany  Female              1      No         No      72   \n",
       "2981  0397-ZXWQF  Germany    Male              0      No         No      67   \n",
       "6340  3323-CPBWR  Germany    Male              0      No         No      23   \n",
       "5204  4282-ACRXS  Germany    Male              1     Yes         No      38   \n",
       "2446  9492-TOKRI  Germany  Female              0      No         No      18   \n",
       "2820  3251-YMVWZ  Germany    Male              0      No         No      53   \n",
       "\n",
       "     PhoneService     MultipleLines InternetService  ...    \\\n",
       "733           Yes               Yes     Fiber optic  ...     \n",
       "1298           No  No phone service             DSL  ...     \n",
       "3704          Yes               Yes             DSL  ...     \n",
       "1466          Yes                No             DSL  ...     \n",
       "4686          Yes               Yes     Fiber optic  ...     \n",
       "2981          Yes                No              No  ...     \n",
       "6340          Yes               Yes     Fiber optic  ...     \n",
       "5204           No  No phone service             DSL  ...     \n",
       "2446          Yes               Yes     Fiber optic  ...     \n",
       "2820          Yes               Yes              No  ...     \n",
       "\n",
       "         DeviceProtection          TechSupport          StreamingTV  \\\n",
       "733                    No                   No                   No   \n",
       "1298                  Yes                   No                  Yes   \n",
       "3704                  Yes                   No                  Yes   \n",
       "1466                   No                   No                   No   \n",
       "4686                  Yes                  Yes                   No   \n",
       "2981  No internet service  No internet service  No internet service   \n",
       "6340                  Yes                  Yes                  Yes   \n",
       "5204                   No                   No                   No   \n",
       "2446                   No                   No                  Yes   \n",
       "2820  No internet service  No internet service  No internet service   \n",
       "\n",
       "          StreamingMovies        Contract PaperlessBilling  \\\n",
       "733                    No        Two year               No   \n",
       "1298                  Yes        One year               No   \n",
       "3704                   No        One year              Yes   \n",
       "1466                   No  Month-to-month              Yes   \n",
       "4686                  Yes        Two year              Yes   \n",
       "2981  No internet service        Two year               No   \n",
       "6340                   No  Month-to-month              Yes   \n",
       "5204                   No  Month-to-month              Yes   \n",
       "2446                   No  Month-to-month              Yes   \n",
       "2820  No internet service        One year               No   \n",
       "\n",
       "                  PaymentMethod MonthlyCharges TotalCharges  Churn  \n",
       "733   Bank transfer (automatic)          79.05       5730.7     No  \n",
       "1298           Electronic check          57.60      1367.75     No  \n",
       "3704    Credit card (automatic)          73.00         5163     No  \n",
       "1466           Electronic check          49.20       571.15     No  \n",
       "4686  Bank transfer (automatic)         107.40      7748.75     No  \n",
       "2981  Bank transfer (automatic)          20.50      1430.95     No  \n",
       "6340    Credit card (automatic)          96.90      2085.45     No  \n",
       "5204           Electronic check          24.85       955.75     No  \n",
       "2446    Credit card (automatic)          90.00      1527.35    Yes  \n",
       "2820  Bank transfer (automatic)          24.05       1301.9     No  \n",
       "\n",
       "[10 rows x 22 columns]"
      ]
     },
     "execution_count": 7,
     "metadata": {},
     "output_type": "execute_result"
    }
   ],
   "source": [
    "df.sample(10)"
   ]
  },
  {
   "cell_type": "code",
   "execution_count": null,
   "metadata": {},
   "outputs": [],
   "source": [
    "#Problem 1"
   ]
  },
  {
   "cell_type": "code",
   "execution_count": 20,
   "metadata": {},
   "outputs": [
    {
     "data": {
      "text/plain": [
       "0.2653698707936959"
      ]
     },
     "execution_count": 20,
     "metadata": {},
     "output_type": "execute_result"
    }
   ],
   "source": [
    "df_churn=df[df[\"Churn\"]==\"Yes\"]\n",
    "\n",
    "len(df_churn)/len(df)"
   ]
  },
  {
   "cell_type": "code",
   "execution_count": null,
   "metadata": {},
   "outputs": [],
   "source": [
    "#Problem 2"
   ]
  },
  {
   "cell_type": "code",
   "execution_count": 8,
   "metadata": {},
   "outputs": [
    {
     "data": {
      "text/html": [
       "<div>\n",
       "<style scoped>\n",
       "    .dataframe tbody tr th:only-of-type {\n",
       "        vertical-align: middle;\n",
       "    }\n",
       "\n",
       "    .dataframe tbody tr th {\n",
       "        vertical-align: top;\n",
       "    }\n",
       "\n",
       "    .dataframe thead th {\n",
       "        text-align: right;\n",
       "    }\n",
       "</style>\n",
       "<table border=\"1\" class=\"dataframe\">\n",
       "  <thead>\n",
       "    <tr style=\"text-align: right;\">\n",
       "      <th></th>\n",
       "      <th>SeniorCitizen</th>\n",
       "      <th>tenure</th>\n",
       "      <th>MonthlyCharges</th>\n",
       "    </tr>\n",
       "  </thead>\n",
       "  <tbody>\n",
       "    <tr>\n",
       "      <th>count</th>\n",
       "      <td>7043.000000</td>\n",
       "      <td>7043.000000</td>\n",
       "      <td>7043.000000</td>\n",
       "    </tr>\n",
       "    <tr>\n",
       "      <th>mean</th>\n",
       "      <td>0.162147</td>\n",
       "      <td>32.371149</td>\n",
       "      <td>64.761692</td>\n",
       "    </tr>\n",
       "    <tr>\n",
       "      <th>std</th>\n",
       "      <td>0.368612</td>\n",
       "      <td>24.559481</td>\n",
       "      <td>30.090047</td>\n",
       "    </tr>\n",
       "    <tr>\n",
       "      <th>min</th>\n",
       "      <td>0.000000</td>\n",
       "      <td>0.000000</td>\n",
       "      <td>18.250000</td>\n",
       "    </tr>\n",
       "    <tr>\n",
       "      <th>25%</th>\n",
       "      <td>0.000000</td>\n",
       "      <td>9.000000</td>\n",
       "      <td>35.500000</td>\n",
       "    </tr>\n",
       "    <tr>\n",
       "      <th>50%</th>\n",
       "      <td>0.000000</td>\n",
       "      <td>29.000000</td>\n",
       "      <td>70.350000</td>\n",
       "    </tr>\n",
       "    <tr>\n",
       "      <th>75%</th>\n",
       "      <td>0.000000</td>\n",
       "      <td>55.000000</td>\n",
       "      <td>89.850000</td>\n",
       "    </tr>\n",
       "    <tr>\n",
       "      <th>max</th>\n",
       "      <td>1.000000</td>\n",
       "      <td>72.000000</td>\n",
       "      <td>118.750000</td>\n",
       "    </tr>\n",
       "  </tbody>\n",
       "</table>\n",
       "</div>"
      ],
      "text/plain": [
       "       SeniorCitizen       tenure  MonthlyCharges\n",
       "count    7043.000000  7043.000000     7043.000000\n",
       "mean        0.162147    32.371149       64.761692\n",
       "std         0.368612    24.559481       30.090047\n",
       "min         0.000000     0.000000       18.250000\n",
       "25%         0.000000     9.000000       35.500000\n",
       "50%         0.000000    29.000000       70.350000\n",
       "75%         0.000000    55.000000       89.850000\n",
       "max         1.000000    72.000000      118.750000"
      ]
     },
     "execution_count": 8,
     "metadata": {},
     "output_type": "execute_result"
    }
   ],
   "source": [
    "df.describe()"
   ]
  },
  {
   "cell_type": "code",
   "execution_count": null,
   "metadata": {},
   "outputs": [],
   "source": [
    "#Problem3"
   ]
  },
  {
   "cell_type": "code",
   "execution_count": 204,
   "metadata": {},
   "outputs": [
    {
     "data": {
      "text/plain": [
       "568"
      ]
     },
     "execution_count": 204,
     "metadata": {},
     "output_type": "execute_result"
    }
   ],
   "source": [
    "df_female_senior=df[(df[\"gender\"]=='Female') & (df[\"SeniorCitizen\"]==True)]\n",
    "len(df_female_senior)"
   ]
  },
  {
   "cell_type": "code",
   "execution_count": 206,
   "metadata": {},
   "outputs": [
    {
     "data": {
      "text/plain": [
       "424"
      ]
     },
     "execution_count": 206,
     "metadata": {},
     "output_type": "execute_result"
    }
   ],
   "source": [
    "df_female_senior_fiber=df_female_senior[df_female_senior[\"InternetService\"]==\"Fiber optic\"]\n",
    "len(df_female_senior_fiber)"
   ]
  },
  {
   "cell_type": "code",
   "execution_count": 207,
   "metadata": {},
   "outputs": [
    {
     "data": {
      "text/plain": [
       "123"
      ]
     },
     "execution_count": 207,
     "metadata": {},
     "output_type": "execute_result"
    }
   ],
   "source": [
    "df_female_senior_dsl=df_female_senior[df_female_senior[\"InternetService\"]==\"DSL\"]\n",
    "len(df_female_senior_dsl)"
   ]
  },
  {
   "cell_type": "code",
   "execution_count": 209,
   "metadata": {},
   "outputs": [
    {
     "name": "stderr",
     "output_type": "stream",
     "text": [
      "C:\\Users\\vjib\\Anaconda3\\lib\\site-packages\\ipykernel_launcher.py:1: UserWarning:\n",
      "\n",
      "Boolean Series key will be reindexed to match DataFrame index.\n",
      "\n"
     ]
    },
    {
     "data": {
      "text/plain": [
       "199"
      ]
     },
     "execution_count": 209,
     "metadata": {},
     "output_type": "execute_result"
    }
   ],
   "source": [
    "df_female_senior_fiber_churn=df_female_senior_fiber[df[\"Churn\"]=='Yes']\n",
    "len(df_female_senior_fiber_churn)"
   ]
  },
  {
   "cell_type": "code",
   "execution_count": 210,
   "metadata": {},
   "outputs": [
    {
     "name": "stderr",
     "output_type": "stream",
     "text": [
      "C:\\Users\\vjib\\Anaconda3\\lib\\site-packages\\ipykernel_launcher.py:1: UserWarning:\n",
      "\n",
      "Boolean Series key will be reindexed to match DataFrame index.\n",
      "\n"
     ]
    },
    {
     "data": {
      "text/plain": [
       "38"
      ]
     },
     "execution_count": 210,
     "metadata": {},
     "output_type": "execute_result"
    }
   ],
   "source": [
    "df_female_senior_dsl_churn=df_female_senior_dsl[df[\"Churn\"]=='Yes']\n",
    "len(df_female_senior_dsl_churn)"
   ]
  },
  {
   "cell_type": "code",
   "execution_count": 220,
   "metadata": {},
   "outputs": [
    {
     "data": {
      "text/plain": [
       "(0.4693396226415094, 0.3089430894308943, 0.1603965332106151)"
      ]
     },
     "execution_count": 220,
     "metadata": {},
     "output_type": "execute_result"
    }
   ],
   "source": [
    "churn_rate_female_senior_fiber=len(df_female_senior_fiber_churn)/len(df_female_senior_fiber)\n",
    "churn_rate_female_dsl_fiber=len(df_female_senior_dsl_churn)/len(df_female_senior_dsl)\n",
    "\n",
    "churn_rate_female_senior_fiber,churn_rate_female_dsl_fiber,(churn_rate_female_senior_fiber-churn_rate_female_dsl_fiber)"
   ]
  },
  {
   "cell_type": "code",
   "execution_count": 287,
   "metadata": {},
   "outputs": [
    {
     "name": "stderr",
     "output_type": "stream",
     "text": [
      "C:\\Users\\vjib\\Anaconda3\\lib\\site-packages\\matplotlib\\figure.py:98: MatplotlibDeprecationWarning:\n",
      "\n",
      "\n",
      "Adding an axes using the same arguments as a previous axes currently reuses the earlier instance.  In a future version, a new instance will always be created and returned.  Meanwhile, this warning can be suppressed, and the future behavior ensured, by passing a unique label to each axes instance.\n",
      "\n"
     ]
    },
    {
     "data": {
      "text/plain": [
       "Text(0.5, 1.0, 'Churn rate of Female Senior citizen by internet service types')"
      ]
     },
     "execution_count": 287,
     "metadata": {},
     "output_type": "execute_result"
    },
    {
     "data": {
      "image/png": "[encoded data removed]",
      "text/plain": [
       "<Figure size 432x288 with 1 Axes>"
      ]
     },
     "metadata": {
      "needs_background": "light"
     },
     "output_type": "display_data"
    }
   ],
   "source": [
    "plt.bar([\"Fiber\",\"DSL\"],[churn_rate_female_senior_fiber,churn_rate_female_dsl_fiber],color=['#1E8BC3','#d24d57'])\n",
    "ax = plt.subplot()\n",
    "ax.set_xlabel('Type')\n",
    "ax.set_ylabel('Churn rate')\n",
    "plt.title('Churn rate of Female Senior citizen by internet service types')"
   ]
  },
  {
   "cell_type": "code",
   "execution_count": null,
   "metadata": {},
   "outputs": [],
   "source": [
    "#Problem4"
   ]
  },
  {
   "cell_type": "code",
   "execution_count": 30,
   "metadata": {},
   "outputs": [
    {
     "data": {
      "text/plain": [
       "0"
      ]
     },
     "execution_count": 30,
     "metadata": {},
     "output_type": "execute_result"
    }
   ],
   "source": [
    "df_fiber_phone=df[(df[\"PhoneService\"]==\"No\") & (df[\"InternetService\"]==\"Fiber optic\")]\n",
    "\n",
    "len(df_fiber_phone)"
   ]
  },
  {
   "cell_type": "code",
   "execution_count": null,
   "metadata": {},
   "outputs": [],
   "source": [
    "#Problem5"
   ]
  },
  {
   "cell_type": "code",
   "execution_count": 291,
   "metadata": {},
   "outputs": [],
   "source": [
    "inputs=[]\n",
    "\n",
    "for index,row in df.iterrows():\n",
    "    \n",
    "    temp_input=[0]*9\n",
    "    \n",
    "    phone_service=row['PhoneService']\n",
    "    multiple_line=row['MultipleLines']\n",
    "    internet_service=row['InternetService']\n",
    "    online_security=row['OnlineSecurity']\n",
    "    online_backup=row['OnlineBackup']\n",
    "    device_protection=row['DeviceProtection']\n",
    "    tech_support=row['TechSupport']\n",
    "    streamingTV=row['StreamingTV']\n",
    "    streamingMovies=row['StreamingMovies']\n",
    "    \n",
    "    if phone_service==\"Yes\":\n",
    "        temp_input[0]=1\n",
    "    if multiple_line==\"Yes\":\n",
    "        temp_input[1]=1\n",
    "    if internet_service==\"Yes\":\n",
    "        temp_input[2]=1\n",
    "    if online_security==\"Yes\":\n",
    "        temp_input[3]=1\n",
    "    if online_backup==\"Yes\":\n",
    "        temp_input[4]=1\n",
    "    if device_protection==\"Yes\":\n",
    "        temp_input[5]=1\n",
    "    if tech_support==\"Yes\":\n",
    "        temp_input[6]=1\n",
    "    if streamingTV==\"Yes\":\n",
    "        temp_input[7]=1\n",
    "    if streamingMovies==\"Yes\":\n",
    "        temp_input[8]=1\n",
    "        \n",
    "    inputs.append(temp_input)"
   ]
  },
  {
   "cell_type": "code",
   "execution_count": null,
   "metadata": {},
   "outputs": [],
   "source": []
  },
  {
   "cell_type": "code",
   "execution_count": null,
   "metadata": {},
   "outputs": [],
   "source": [
    "#Problem6"
   ]
  },
  {
   "cell_type": "code",
   "execution_count": 199,
   "metadata": {},
   "outputs": [],
   "source": [
    "churn_rate={}\n",
    "churn_yes={}\n",
    "churn_no={}\n",
    "\n",
    "x_charge=[]\n",
    "y_rate=[]\n",
    "\n",
    "for index,row in df.iterrows():\n",
    "    monthly_charge=row['MonthlyCharges']\n",
    "    churn=row['Churn']\n",
    "    \n",
    "    charge=int(monthly_charge/5)*5\n",
    "        \n",
    "    if not charge in churn_yes:\n",
    "        churn_yes[charge]=0\n",
    "        \n",
    "    if not charge in churn_no:\n",
    "        churn_no[charge]=0\n",
    "        \n",
    "    if churn==\"Yes\":\n",
    "        churn_yes[charge]+=1\n",
    "    else:\n",
    "        churn_no[charge]+=1\n",
    "        \n",
    "for charge,total in churn_yes.items():\n",
    "    rate=churn_yes[charge]/(churn_yes[charge]+churn_no[charge])\n",
    "    churn_rate[charge]=rate\n",
    "    x_charge.append([1,charge])\n",
    "    y_rate.append(rate)"
   ]
  },
  {
   "cell_type": "code",
   "execution_count": 200,
   "metadata": {},
   "outputs": [
    {
     "data": {
      "text/plain": [
       "(0.0011767161504871281, 0.18420798113336034)"
      ]
     },
     "execution_count": 200,
     "metadata": {},
     "output_type": "execute_result"
    }
   ],
   "source": [
    "m,b = np.polyfit(list(churn_rate.keys()),list(churn_rate.values()), 1)\n",
    "m,b"
   ]
  },
  {
   "cell_type": "code",
   "execution_count": 201,
   "metadata": {},
   "outputs": [
    {
     "name": "stderr",
     "output_type": "stream",
     "text": [
      "C:\\Users\\vjib\\Anaconda3\\lib\\site-packages\\matplotlib\\figure.py:98: MatplotlibDeprecationWarning:\n",
      "\n",
      "\n",
      "Adding an axes using the same arguments as a previous axes currently reuses the earlier instance.  In a future version, a new instance will always be created and returned.  Meanwhile, this warning can be suppressed, and the future behavior ensured, by passing a unique label to each axes instance.\n",
      "\n"
     ]
    },
    {
     "data": {
      "text/plain": [
       "[<matplotlib.lines.Line2D at 0x24db0993550>]"
      ]
     },
     "execution_count": 201,
     "metadata": {},
     "output_type": "execute_result"
    },
    {
     "data": {
      "image/png": "[encoded data removed]",
      "text/plain": [
       "<Figure size 432x288 with 1 Axes>"
      ]
     },
     "metadata": {
      "needs_background": "light"
     },
     "output_type": "display_data"
    }
   ],
   "source": [
    "plt.scatter(churn_rate.keys(),churn_rate.values(),color='#d24d57',s=50)\n",
    "ax = plt.subplot()\n",
    "ax.set_xlabel('Monthly charge')\n",
    "ax.set_ylabel('Churn')\n",
    "plt.title('Relationship between churn rate and monthly charge')\n",
    "\n",
    "x = np.linspace(0, 120, 10)\n",
    "plt.plot(x,  m*x+b, linestyle='dashed',color=\"blue\")"
   ]
  },
  {
   "cell_type": "code",
   "execution_count": 202,
   "metadata": {},
   "outputs": [
    {
     "data": {
      "text/html": [
       "<table class=\"simpletable\">\n",
       "<caption>OLS Regression Results</caption>\n",
       "<tr>\n",
       "  <th>Dep. Variable:</th>            <td>y</td>        <th>  R-squared:         </th> <td>   0.102</td>\n",
       "</tr>\n",
       "<tr>\n",
       "  <th>Model:</th>                   <td>OLS</td>       <th>  Adj. R-squared:    </th> <td>   0.055</td>\n",
       "</tr>\n",
       "<tr>\n",
       "  <th>Method:</th>             <td>Least Squares</td>  <th>  F-statistic:       </th> <td>   2.163</td>\n",
       "</tr>\n",
       "<tr>\n",
       "  <th>Date:</th>             <td>Thu, 23 Jan 2020</td> <th>  Prob (F-statistic):</th>  <td> 0.158</td> \n",
       "</tr>\n",
       "<tr>\n",
       "  <th>Time:</th>                 <td>13:06:39</td>     <th>  Log-Likelihood:    </th> <td>  17.414</td>\n",
       "</tr>\n",
       "<tr>\n",
       "  <th>No. Observations:</th>      <td>    21</td>      <th>  AIC:               </th> <td>  -30.83</td>\n",
       "</tr>\n",
       "<tr>\n",
       "  <th>Df Residuals:</th>          <td>    19</td>      <th>  BIC:               </th> <td>  -28.74</td>\n",
       "</tr>\n",
       "<tr>\n",
       "  <th>Df Model:</th>              <td>     1</td>      <th>                     </th>     <td> </td>   \n",
       "</tr>\n",
       "<tr>\n",
       "  <th>Covariance Type:</th>      <td>nonrobust</td>    <th>                     </th>     <td> </td>   \n",
       "</tr>\n",
       "</table>\n",
       "<table class=\"simpletable\">\n",
       "<tr>\n",
       "    <td></td>       <th>coef</th>     <th>std err</th>      <th>t</th>      <th>P>|t|</th>  <th>[0.025</th>    <th>0.975]</th>  \n",
       "</tr>\n",
       "<tr>\n",
       "  <th>const</th> <td>    0.1842</td> <td>    0.057</td> <td>    3.211</td> <td> 0.005</td> <td>    0.064</td> <td>    0.304</td>\n",
       "</tr>\n",
       "<tr>\n",
       "  <th>x1</th>    <td>    0.0012</td> <td>    0.001</td> <td>    1.471</td> <td> 0.158</td> <td>   -0.000</td> <td>    0.003</td>\n",
       "</tr>\n",
       "</table>\n",
       "<table class=\"simpletable\">\n",
       "<tr>\n",
       "  <th>Omnibus:</th>       <td> 2.105</td> <th>  Durbin-Watson:     </th> <td>   1.371</td>\n",
       "</tr>\n",
       "<tr>\n",
       "  <th>Prob(Omnibus):</th> <td> 0.349</td> <th>  Jarque-Bera (JB):  </th> <td>   1.541</td>\n",
       "</tr>\n",
       "<tr>\n",
       "  <th>Skew:</th>          <td>-0.473</td> <th>  Prob(JB):          </th> <td>   0.463</td>\n",
       "</tr>\n",
       "<tr>\n",
       "  <th>Kurtosis:</th>      <td> 2.070</td> <th>  Cond. No.          </th> <td>    170.</td>\n",
       "</tr>\n",
       "</table><br/><br/>Warnings:<br/>[1] Standard Errors assume that the covariance matrix of the errors is correctly specified."
      ],
      "text/plain": [
       "<class 'statsmodels.iolib.summary.Summary'>\n",
       "\"\"\"\n",
       "                            OLS Regression Results                            \n",
       "==============================================================================\n",
       "Dep. Variable:                      y   R-squared:                       0.102\n",
       "Model:                            OLS   Adj. R-squared:                  0.055\n",
       "Method:                 Least Squares   F-statistic:                     2.163\n",
       "Date:                Thu, 23 Jan 2020   Prob (F-statistic):              0.158\n",
       "Time:                        13:06:39   Log-Likelihood:                 17.414\n",
       "No. Observations:                  21   AIC:                            -30.83\n",
       "Df Residuals:                      19   BIC:                            -28.74\n",
       "Df Model:                           1                                         \n",
       "Covariance Type:            nonrobust                                         \n",
       "==============================================================================\n",
       "                 coef    std err          t      P>|t|      [0.025      0.975]\n",
       "------------------------------------------------------------------------------\n",
       "const          0.1842      0.057      3.211      0.005       0.064       0.304\n",
       "x1             0.0012      0.001      1.471      0.158      -0.000       0.003\n",
       "==============================================================================\n",
       "Omnibus:                        2.105   Durbin-Watson:                   1.371\n",
       "Prob(Omnibus):                  0.349   Jarque-Bera (JB):                1.541\n",
       "Skew:                          -0.473   Prob(JB):                        0.463\n",
       "Kurtosis:                       2.070   Cond. No.                         170.\n",
       "==============================================================================\n",
       "\n",
       "Warnings:\n",
       "[1] Standard Errors assume that the covariance matrix of the errors is correctly specified.\n",
       "\"\"\""
      ]
     },
     "execution_count": 202,
     "metadata": {},
     "output_type": "execute_result"
    }
   ],
   "source": [
    "import statsmodels.api as sm\n",
    "ols = sm.OLS(y_rate, x_charge)\n",
    "ols_result = ols.fit()\n",
    "ols_result.summary()"
   ]
  },
  {
   "cell_type": "code",
   "execution_count": 224,
   "metadata": {},
   "outputs": [
    {
     "name": "stdout",
     "output_type": "stream",
     "text": [
      "0.21531494442157267 0.39928756476683935\n"
     ]
    }
   ],
   "source": [
    "df_online_yes=df[df[\"OnlineBackup\"]==\"Yes\"]\n",
    "df_online_no=df[df[\"OnlineBackup\"]==\"No\"]\n",
    "df_online_yes_churn=df_online_yes[df_online_yes[\"Churn\"]==\"Yes\"]\n",
    "df_online_no_churn=df_online_no[df_online_no[\"Churn\"]==\"Yes\"]\n",
    "\n",
    "online_yes_churn_rate=len(df_online_yes_churn)/len(df_online_yes)\n",
    "online_no_churn_rate=len(df_online_no_churn)/len(df_online_no)\n",
    "\n",
    "print(online_yes_churn_rate,online_no_churn_rate)"
   ]
  },
  {
   "cell_type": "code",
   "execution_count": 225,
   "metadata": {},
   "outputs": [
    {
     "name": "stdout",
     "output_type": "stream",
     "text": [
      "0.14611193660227836 0.4176672384219554\n"
     ]
    }
   ],
   "source": [
    "df_security_yes=df[df[\"OnlineSecurity\"]==\"Yes\"]\n",
    "df_security_no=df[df[\"OnlineSecurity\"]==\"No\"]\n",
    "df_security_yes_churn=df_security_yes[df_security_yes[\"Churn\"]==\"Yes\"]\n",
    "df_security_no_churn=df_security_no[df_security_no[\"Churn\"]==\"Yes\"]\n",
    "\n",
    "security_yes_churn_rate=len(df_security_yes_churn)/len(df_security_yes)\n",
    "security_no_churn_rate=len(df_security_no_churn)/len(df_security_no)\n",
    "\n",
    "print(security_yes_churn_rate,security_no_churn_rate)"
   ]
  },
  {
   "cell_type": "code",
   "execution_count": 226,
   "metadata": {},
   "outputs": [
    {
     "name": "stdout",
     "output_type": "stream",
     "text": [
      "0.15166340508806261 0.4163547365390153\n"
     ]
    }
   ],
   "source": [
    "df_tech_yes=df[df[\"TechSupport\"]==\"Yes\"]\n",
    "df_tech_no=df[df[\"TechSupport\"]==\"No\"]\n",
    "df_tech_yes_churn=df_tech_yes[df_tech_yes[\"Churn\"]==\"Yes\"]\n",
    "df_tech_no_churn=df_tech_no[df_tech_no[\"Churn\"]==\"Yes\"]\n",
    "\n",
    "tech_yes_churn_rate=len(df_tech_yes_churn)/len(df_tech_yes)\n",
    "tech_no_churn_rate=len(df_tech_no_churn)/len(df_tech_no)\n",
    "\n",
    "print(tech_yes_churn_rate,tech_no_churn_rate)"
   ]
  },
  {
   "cell_type": "code",
   "execution_count": 257,
   "metadata": {},
   "outputs": [
    {
     "data": {
      "image/png": "[encoded data removed]",
      "text/plain": [
       "<Figure size 432x288 with 1 Axes>"
      ]
     },
     "metadata": {
      "needs_background": "light"
     },
     "output_type": "display_data"
    }
   ],
   "source": [
    "x_axis=[\"Online Backup\",\"Online Security\",\"Tech Support\"]\n",
    "yes_service_rates = [online_yes_churn_rate,security_yes_churn_rate,tech_yes_churn_rate]\n",
    "no_service_rates = [online_no_churn_rate,security_no_churn_rate,tech_no_churn_rate]\n",
    "\n",
    "barWidth = 0.25\n",
    "\n",
    "r1 = np.arange(3)\n",
    "r2 = [x + barWidth for x in r1]\n",
    "\n",
    "plt.bar(r1, yes_service_rates, width=barWidth, color='#2abb9b', align='center',label='With service')\n",
    "plt.bar(r2, no_service_rates, width=barWidth, color='#d24d57', align='center',label='Without service')\n",
    "\n",
    "plt.xlabel('Type of services')\n",
    "plt.ylabel('Churn rate')\n",
    "plt.xticks([r + barWidth for r in range(3)],x_axis)\n",
    "\n",
    "plt.legend()\n",
    "plt.show()"
   ]
  },
  {
   "cell_type": "code",
   "execution_count": 261,
   "metadata": {},
   "outputs": [
    {
     "data": {
      "text/plain": [
       "(0.5493827160493827, 0.5133205163416644)"
      ]
     },
     "execution_count": 261,
     "metadata": {},
     "output_type": "execute_result"
    }
   ],
   "source": [
    "df_with_partner=df[df[\"Partner\"]==\"Yes\"]\n",
    "df_without_partner=df[df[\"Partner\"]==\"No\"]\n",
    "\n",
    "df_churn_with_partner=df[df[\"Churn\"]==\"Yes\"]\n",
    "df_churn_without_partner=df[df[\"Churn\"]==\"Yes\"]\n",
    "\n",
    "churn_rate_with_partner=len(df_churn_with_partner)/len(df_with_partner)\n",
    "churn_rate_without_partner=len(df_churn_without_partner)/len(df_without_partner)\n",
    "\n",
    "churn_rate_with_partner,churn_rate_without_partner"
   ]
  },
  {
   "cell_type": "code",
   "execution_count": 275,
   "metadata": {},
   "outputs": [],
   "source": [
    "#Problem 10\n",
    "\n",
    "inputs=[]\n",
    "outputs=[]\n",
    "\n",
    "for index,row in df.iterrows():\n",
    "    \n",
    "    temp_input=[0]*22\n",
    "    \n",
    "    gender=row['gender']\n",
    "    senior=row['SeniorCitizen']\n",
    "    partner=row['Partner']\n",
    "    dependent=row['Dependents']\n",
    "    tenure=row['tenure']\n",
    "    phone_service=row['PhoneService']\n",
    "    multiple_line=row['MultipleLines']\n",
    "    internet_service=row['InternetService']\n",
    "    online_security=row['OnlineSecurity']\n",
    "    online_backup=row['OnlineBackup']\n",
    "    device_protection=row['DeviceProtection']\n",
    "    tech_support=row['TechSupport']\n",
    "    streamingTV=row['StreamingTV']\n",
    "    streamingMovies=row['StreamingMovies']\n",
    "    contact=row['Contract']\n",
    "    paperless=row['PaperlessBilling']\n",
    "    paymentMethod=row['PaymentMethod']\n",
    "    charge=row[\"MonthlyCharges\"]\n",
    "    churn=row[\"Churn\"]\n",
    "    \n",
    "    if gender=='Male':\n",
    "        temp_input[0]=1\n",
    "    \n",
    "    temp_input[1]=senior\n",
    "    \n",
    "    if partner=='Yes':\n",
    "        temp_input[2]=1\n",
    "    \n",
    "    if dependent=='Yes':\n",
    "        temp_input[3]=1\n",
    "        \n",
    "    temp_input[4]=tenure/72\n",
    "    \n",
    "    if phone_service==\"Yes\":\n",
    "        temp_input[5]=1\n",
    "        \n",
    "    if multiple_line==\"Yes\":\n",
    "        temp_input[6]\n",
    "        \n",
    "    if internet_service==\"DSL\":\n",
    "        temp_input[7]=1\n",
    "    elif internet_service==\"Fiber optic\":\n",
    "        temp_input[8]=1\n",
    "        \n",
    "    if online_security==\"Yes\":\n",
    "        temp_input[9]=1\n",
    "        \n",
    "    if online_backup==\"Yes\":\n",
    "        temp_input[10]=1\n",
    "        \n",
    "    if device_protection==\"Yes\":\n",
    "        temp_input[11]=1\n",
    "        \n",
    "    if tech_support==\"Yes\":\n",
    "        temp_input[12]=1\n",
    "        \n",
    "    if streamingTV==\"Yes\":\n",
    "        temp_input[13]=1\n",
    "        \n",
    "    if streamingMovies==\"Yes\":\n",
    "        temp_input[14]=1\n",
    "        \n",
    "    if contact=='One year':\n",
    "        temp_input[15]=1\n",
    "    elif contact=='Two year':\n",
    "        temp_input[15]=2\n",
    "    else:\n",
    "        temp_input[15]=1/12\n",
    "        \n",
    "    if paperless=='Yes':\n",
    "        temp_input[16]=1\n",
    "        \n",
    "    if paymentMethod==\"Bank transfer (automatic)\":\n",
    "        temp_input[17]=1\n",
    "    elif paymentMethod==\"Credit card (automatic)\":\n",
    "        temp_input[18]=1\n",
    "    elif paymentMethod==\"Electronic check\":\n",
    "        temp_input[19]=1\n",
    "    else:\n",
    "        temp_input[20]=1\n",
    "        \n",
    "    temp_input[21]=charge\n",
    "    \n",
    "    inputs.append(temp_input)\n",
    "    \n",
    "    if churn=='Yes':\n",
    "        outputs.append([1])\n",
    "    else:\n",
    "        outputs.append([0])"
   ]
  },
  {
   "cell_type": "code",
   "execution_count": 276,
   "metadata": {},
   "outputs": [
    {
     "name": "stderr",
     "output_type": "stream",
     "text": [
      "C:\\Users\\vjib\\Anaconda3\\lib\\site-packages\\sklearn\\linear_model\\logistic.py:433: FutureWarning:\n",
      "\n",
      "Default solver will be changed to 'lbfgs' in 0.22. Specify a solver to silence this warning.\n",
      "\n",
      "C:\\Users\\vjib\\Anaconda3\\lib\\site-packages\\sklearn\\utils\\validation.py:761: DataConversionWarning:\n",
      "\n",
      "A column-vector y was passed when a 1d array was expected. Please change the shape of y to (n_samples, ), for example using ravel().\n",
      "\n"
     ]
    },
    {
     "data": {
      "text/plain": [
       "0.8051966491551895"
      ]
     },
     "execution_count": 276,
     "metadata": {},
     "output_type": "execute_result"
    }
   ],
   "source": [
    "from sklearn.linear_model import LogisticRegression\n",
    "\n",
    "clf = LogisticRegression(random_state=0).fit(inputs, outputs)\n",
    "clf.score(inputs, outputs)"
   ]
  },
  {
   "cell_type": "code",
   "execution_count": 277,
   "metadata": {},
   "outputs": [
    {
     "data": {
      "text/plain": [
       "array([[-0.02503698,  0.21751964, -0.00430748, -0.16850643, -2.33629231,\n",
       "        -1.12465785,  0.        , -0.04393884,  0.02271568, -0.53421752,\n",
       "        -0.28601562, -0.17385365, -0.50672215, -0.07184969, -0.05903453,\n",
       "        -0.73100461,  0.3396508 , -0.24236409, -0.32759086,  0.07559946,\n",
       "        -0.24785941,  0.03412614]])"
      ]
     },
     "execution_count": 277,
     "metadata": {},
     "output_type": "execute_result"
    }
   ],
   "source": [
    "clf.coef_\n",
    "\n",
    "#4-tenure\n",
    "#5-phone_service\n",
    "#15-Contact"
   ]
  },
  {
   "cell_type": "code",
   "execution_count": 284,
   "metadata": {},
   "outputs": [],
   "source": [
    "#Problem 10\n",
    "\n",
    "inputs=[]\n",
    "outputs=[]\n",
    "\n",
    "for index,row in df.iterrows():\n",
    "    \n",
    "    temp_input=[0]*3\n",
    "    \n",
    "    tenure=row['tenure']\n",
    "    phone_service=row['PhoneService']\n",
    "    contact=row['Contract']\n",
    "    churn=row[\"Churn\"]\n",
    "    \n",
    "    temp_input[0]=tenure/72\n",
    "    \n",
    "    if phone_service==\"Yes\":\n",
    "        temp_input[1]=1\n",
    "             \n",
    "    if contact=='One year':\n",
    "        temp_input[2]=1\n",
    "    elif contact=='Two year':\n",
    "        temp_input[2]=2\n",
    "    else:\n",
    "        temp_input[2]=1/12\n",
    "        \n",
    "    inputs.append(temp_input)\n",
    "    \n",
    "    if churn=='Yes':\n",
    "        outputs.append([1])\n",
    "    else:\n",
    "        outputs.append([0])"
   ]
  },
  {
   "cell_type": "code",
   "execution_count": 285,
   "metadata": {},
   "outputs": [
    {
     "name": "stderr",
     "output_type": "stream",
     "text": [
      "C:\\Users\\vjib\\Anaconda3\\lib\\site-packages\\sklearn\\linear_model\\logistic.py:433: FutureWarning:\n",
      "\n",
      "Default solver will be changed to 'lbfgs' in 0.22. Specify a solver to silence this warning.\n",
      "\n",
      "C:\\Users\\vjib\\Anaconda3\\lib\\site-packages\\sklearn\\utils\\validation.py:761: DataConversionWarning:\n",
      "\n",
      "A column-vector y was passed when a 1d array was expected. Please change the shape of y to (n_samples, ), for example using ravel().\n",
      "\n"
     ]
    },
    {
     "data": {
      "text/plain": [
       "0.7346301292063041"
      ]
     },
     "execution_count": 285,
     "metadata": {},
     "output_type": "execute_result"
    }
   ],
   "source": [
    "from sklearn.linear_model import LogisticRegression\n",
    "\n",
    "clf = LogisticRegression(random_state=0).fit(inputs, outputs)\n",
    "clf.score(inputs, outputs)"
   ]
  },
  {
   "cell_type": "code",
   "execution_count": 286,
   "metadata": {},
   "outputs": [
    {
     "data": {
      "text/plain": [
       "array([[-1.20020235,  0.11480377, -1.43165447]])"
      ]
     },
     "execution_count": 286,
     "metadata": {},
     "output_type": "execute_result"
    }
   ],
   "source": [
    "clf.coef_"
   ]
  },
  {
   "cell_type": "code",
   "execution_count": null,
   "metadata": {},
   "outputs": [],
   "source": []
  }
 ],
 "metadata": {
  "kernelspec": {
   "display_name": "Python 3",
   "language": "python",
   "name": "python3"
  },
  "language_info": {
   "codemirror_mode": {
    "name": "ipython",
    "version": 3
   },
   "file_extension": ".py",
   "mimetype": "text/x-python",
   "name": "python",
   "nbconvert_exporter": "python",
   "pygments_lexer": "ipython3",
   "version": "3.7.1"
  }
 },
 "nbformat": 4,
 "nbformat_minor": 2
}
